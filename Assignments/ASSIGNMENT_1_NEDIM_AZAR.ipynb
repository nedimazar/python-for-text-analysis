{
 "cells": [
  {
   "cell_type": "markdown",
   "metadata": {},
   "source": [
    "# Assignment 1: Calculation, Strings, Boolean Expressions and Conditions\n",
    "\n",
    "**Deadline: Friday, September 9, 2022 before 5pm (submit via Canvas: Assignment 1)** \n",
    "\n",
    "\n",
    "This assignment is **not graded**, but it is mandatory to submit a version that shows you have given it a serious try. We will check your assignments to monitor the progress and get an impression of how the course is going so far. You will receive feedback and solutions in the first class after the deadline. **Please note that the material taught in this block is essential for all subsequent blocks.** \n",
    "\n",
    "- Please name your notebook with the following naming convention: ASSIGNMENT_1_FIRSTNAME_LASTNAME.ipynb\n",
    "- If you have **questions** about this topic, please contact **cltl.python.course@gmail.com**.\n",
    "\n",
    "\n",
    "In this block, we covered the following chapters:\n",
    "\n",
    "- Chapter 1 - Getting Started with Variables and Values\n",
    "- Chapter 2 - Basic Data Types (Integers and Floats)\n",
    "- Chapter 3 - Strings\n",
    "- Chapter 4 - Boolean Expressions and Conditions\n",
    "\n",
    "In this assignment, you will be asked to show what you have learned from the topics above! \n",
    "\n",
    "**Looking things up**\n",
    "\n",
    "Don't worry - you do not have to know things by heart yet - feel free to have all Chapters of block 1 open while you work on this. This also goes for all future assignments. \n",
    "\n",
    "**Finding solutions online**\n",
    "\n",
    "Very often, you can find good solutions online. We encourage you to use online resources when you get stuck. However, please always try to understand the code you find and indicate that it is not your own. Use the following format to mark code written by someone else:\n",
    "\n",
    "###Taken from [link] [date]\n",
    "\n",
    "[code]\n",
    "\n",
    "\\###\n",
    "\n",
    "Please use a similar format to indicate that you have worked with a classmate (e.g. mention the name instead of the link). \n",
    "\n",
    "*Indicating online resources and collaboration is mandatory! Please stick to this strategy for all course assignments.*\n",
    "\n",
    "**Being stuck and getting help**\n",
    "\n",
    "It is very normal to get stuck every now and then. Sometimes you find what is wrong within minutes, sometimes this takes longer. If you get stuck, please apply the strategies described in the readme. If none of them work, please contact us (cltl.python.course@gmail.com). "
   ]
  },
  {
   "cell_type": "markdown",
   "metadata": {},
   "source": [
    "## Exercise 1: Calculation\n"
   ]
  },
  {
   "cell_type": "markdown",
   "metadata": {},
   "source": [
    "#### 1a. Average \n",
    "Define three variables `var1`, `var2` and `var3`. Calculate the average of these variables and assign it to the variable `average`. Print the outcome of your program as follows (use casting or an f-string):\n",
    "\n",
    "`The average of [...], [...] and [...] is: [...]`"
   ]
  },
  {
   "cell_type": "code",
   "execution_count": 1,
   "metadata": {},
   "outputs": [
    {
     "name": "stdout",
     "output_type": "stream",
     "text": [
      "The aeverage of 42, 1337 and 999 is: 792.6666666666666\n"
     ]
    }
   ],
   "source": [
    "# average code\n",
    "var1 = 42\n",
    "var2 = 1337\n",
    "var3 = 999\n",
    "\n",
    "average = (var1 + var2 + var3) / 3\n",
    "\n",
    "print(f\"The aeverage of {var1}, {var2} and {var3} is: {average}\")"
   ]
  },
  {
   "cell_type": "markdown",
   "metadata": {},
   "source": [
    "#### 1b. Book prices\n",
    "\n",
    "\n",
    "Calculate book prices for the following scenarios:\n",
    "\n",
    "Suppose the price of a book is 24.95 EUR, but if the book is bought by a bookstore, they get a 30 percent discount (as opposed to customers buying from an online stores). Shipping costs 3 EUR for the first copy and 75 cents for each additional copy. Shipping costs always apply (the books also have to be shipped to the bookstore). \n",
    "\n",
    "Write a program that can calculate the total costs for any number of copies for both bookstores and other customers. Use variables with clear names for your calculations and print the result using a full sentence.\n",
    "\n",
    "The program should use variables which indicate whether the customer is a bookstore or not and how many books are bought. You can simply assign values to the variables in you code or use the input function (both is accepted).\n",
    "\n",
    "\n",
    "**Tip**\n",
    "\n",
    "Start small and add things in steps. For instance, start by calculating the price minus the discount. Then add the additional steps. Also, it helps to a start by simply assuming a specific number of books (start with 1 and make sure it works with any other number). Do not forget to test your program! "
   ]
  },
  {
   "cell_type": "code",
   "execution_count": 2,
   "metadata": {},
   "outputs": [
    {
     "name": "stdout",
     "output_type": "stream",
     "text": [
      "42 Books: 734.7059999999999 Discount: 314.87399999999997\n",
      "Shipping: 33.75\n",
      "Total: 768.4559999999999\n",
      "\n"
     ]
    }
   ],
   "source": [
    "# complete the code below\n",
    "\n",
    "n_books = 42\n",
    "customer_is_bookstore = True\n",
    "book_price = 24.99\n",
    "\n",
    "# you bookprice calculations here\n",
    "discount = customer_is_bookstore * (0.3 * n_books * book_price)\n",
    "books_total = (book_price * n_books) - discount\n",
    "\n",
    "shipping = (n_books >= 1) * (3 + (n_books-1) * 0.75)\n",
    "\n",
    "total = books_total + shipping\n",
    "\n",
    "print(f\"\"\"{n_books} Books: {books_total} Discount: {discount}\n",
    "Shipping: {shipping}\n",
    "Total: {total}\n",
    "\"\"\")"
   ]
  },
  {
   "cell_type": "markdown",
   "metadata": {},
   "source": [
    "#### 1c. The modulus operator \n",
    "\n",
    "There is one operator (like the ones for multiplication and subtraction) that we did not discuss yet, namely the modulus operator %. Could you figure out by yourself what it does when you place it between two numbers (e.g. 113 % 9)? (PS: Try to figure it out by yourself first, by trying multiple combinations of numbers. If you do not manage, it's OK to use online resources...) \n",
    "\n",
    "You don't need this operator all that often, but when you do, it comes in really handy! Also, it is important to learn how to figure out what operators/methods/functions you have never seen before do by playing with code, googling or reading documentation. \n"
   ]
  },
  {
   "cell_type": "code",
   "execution_count": 1,
   "metadata": {},
   "outputs": [
    {
     "data": {
      "text/plain": [
       "1"
      ]
     },
     "execution_count": 1,
     "metadata": {},
     "output_type": "execute_result"
    }
   ],
   "source": [
    "# try out the modulus operator!\n",
    "26 % 5\n",
    "\n",
    "# The modulus operator gives us the remainder of dividing the number on its left by the number on its right."
   ]
  },
  {
   "cell_type": "markdown",
   "metadata": {},
   "source": [
    "**Help the cashier**\n",
    "\n",
    "Can you use the modulus operator you just learned about to solve the following task? Imagine you want to help cashiers to return the change in a convenient way. This means you do not want to return hands full of small coins, but rather use bills and as few coins as possible. \n",
    "\n",
    "Write code  that classifies a given amount of money into smaller monetary units. Given a specific amout of dollars, your program should report the maximum number of dollar bills,  quarters, dimes, nickels, and pennies. \n",
    "\n",
    "Set the amount variable to 11.67. You code should output a report listing the monetary equivalent in dollars, quarters, dimes, nickels, and pennies (one quarter is equivalent to 25 cents; one dime to 10 cents; one nickle to 5 cents and a pennie to 1 cent). Your program should report the maximum number of dollars, then the number of quarters, dimes, nickels, and pennies, in this order, to result in the minimum number of coins. Here are the steps in developing the program:\n",
    "\n",
    "1. Convert the amount (11.67) into cents (1167).\n",
    "2. First get the amount of cents that you would get after subtracting the maximum amount of dollars (100 cents) using the modulus operator (67 cents).\n",
    "3. Then subtract the remainder (67 cents) from the total amount of cents (1167 cents) and divide this by 100 to find the number of dollars.\n",
    "4. Use the modulus operator again to find out the remainder after subtracting the maximum amount of quarters (17 cents).\n",
    "5. Subtract this remainder (17 cents) from the previous remainder (67 cents) and divide this by 25 to find out the number of quarters.\n",
    "6. Follow the same steps for the dimes, nickels and pennies.\n",
    "7. Display the result for your cashier! (the amount of dollars, quarters, dimes, nickels and pennies that (s)he would have to give back)`"
   ]
  },
  {
   "cell_type": "code",
   "execution_count": 4,
   "metadata": {},
   "outputs": [
    {
     "name": "stdout",
     "output_type": "stream",
     "text": [
      "Dollars: 11\n",
      "Quarters: 2\n",
      "Dimes: 1\n",
      "Nickels: 1\n",
      "Pennies: 2\n"
     ]
    }
   ],
   "source": [
    "# cashier code\n",
    "amount = 11.67\n",
    "cents = amount * 100\n",
    "\n",
    "after_dollars = cents % 100\n",
    "cents = cents - after_dollars\n",
    "\n",
    "dollars = cents / 100\n",
    "print(\"Dollars:\", int(dollars))\n",
    "cents = after_dollars\n",
    "\n",
    "after_quarters = cents % 25\n",
    "cents = cents - after_quarters\n",
    "\n",
    "quarters = cents / 25\n",
    "print(\"Quarters:\", int(quarters))\n",
    "cents = after_quarters\n",
    "\n",
    "after_dimes = cents % 10\n",
    "cents = cents - after_dimes\n",
    "\n",
    "dimes = cents / 10\n",
    "print(\"Dimes:\", int(dimes))\n",
    "cents = after_dimes\n",
    "\n",
    "after_nickels = cents % 5\n",
    "cents = cents - after_nickels\n",
    "\n",
    "nickels = cents / 5\n",
    "print(\"Nickels:\", int(nickels))\n",
    "cents = after_nickels\n",
    "\n",
    "after_pennies = cents % 1\n",
    "cents = cents - after_pennies\n",
    "\n",
    "pennies = cents / 1\n",
    "print(\"Pennies:\", int(pennies))\n",
    "cents = after_pennies"
   ]
  },
  {
   "cell_type": "markdown",
   "metadata": {},
   "source": [
    "## Exercise 2: Printing and user input\n"
   ]
  },
  {
   "cell_type": "markdown",
   "metadata": {},
   "source": [
    "#### 2a. Difference between \",\" and \"+\"\n",
    "\n",
    "What is the difference between using **+** and **,** in a print statement? Illustrate by using both in each of the following:\n",
    "\n",
    "* calling the `print()` fuction with multiple strings\n",
    "* printing combinations of strings and integers\n",
    "* concatenating multiple strings and assign to one single variable\n",
    "* concatenating strings and integers and assign to one single variable"
   ]
  },
  {
   "cell_type": "code",
   "execution_count": 5,
   "metadata": {},
   "outputs": [
    {
     "name": "stdout",
     "output_type": "stream",
     "text": [
      "These will be separated by spaces .\n",
      "TheseWon't\n"
     ]
    }
   ],
   "source": [
    "# , will separate multiple strings by a separator, which is a space by default\n",
    "print(\"These\", \"will\", \"be\", \"separated\", \"by\", \"spaces\", \".\")\n",
    "\n",
    "# + will concatenate multiple strings\n",
    "print(\"These\" + \"Won't\")"
   ]
  },
  {
   "cell_type": "code",
   "execution_count": 6,
   "metadata": {},
   "outputs": [
    {
     "name": "stdout",
     "output_type": "stream",
     "text": [
      "There will be a space and an integer after the semicolon: 42\n",
      "Exception: can only concatenate str (not \"int\") to str\n"
     ]
    }
   ],
   "source": [
    "# , Again the separator is inserted between the string and the integer\n",
    "print(\"There will be a space and an integer after the semicolon:\", 42)\n",
    "\n",
    "# This will cause an exception because the two types do not support addition\n",
    "try:\n",
    "    print(\"Oops\" + 5)\n",
    "except Exception as e:\n",
    "    print(f\"Exception: {e}\")"
   ]
  },
  {
   "cell_type": "code",
   "execution_count": 7,
   "metadata": {},
   "outputs": [
    {
     "name": "stdout",
     "output_type": "stream",
     "text": [
      "('a', 'b', 'c') is a <class 'tuple'>\n",
      "foobar\n"
     ]
    }
   ],
   "source": [
    "# , will create a tuple of the provided strings\n",
    "my_strings = \"a\", \"b\", \"c\"\n",
    "print(my_strings, \"is a\", type(my_strings ))\n",
    "\n",
    "# + will concatenate the provided strings\n",
    "foobar = \"foo\" + \"bar\"\n",
    "print(foobar)"
   ]
  },
  {
   "cell_type": "code",
   "execution_count": 8,
   "metadata": {},
   "outputs": [
    {
     "name": "stdout",
     "output_type": "stream",
     "text": [
      "('apple', 42, 'banana') is a <class 'tuple'>\n",
      "Exception: can only concatenate str (not \"int\") to str\n"
     ]
    }
   ],
   "source": [
    "# , will once again create a tuple of the provided values\n",
    "things = \"apple\", 42, \"banana\"\n",
    "print(things, \"is a\", type(things))\n",
    "\n",
    "# + will throw an exception because strings cannot be added to numbers\n",
    "try:\n",
    "    ouch = \"wow\" + 1\n",
    "except Exception as e:\n",
    "    print(f\"Exception: {e}\")"
   ]
  },
  {
   "cell_type": "markdown",
   "metadata": {},
   "source": [
    "####  2b. Small Talk\n",
    "Write a program to have a little conversation with someone. First ask them for their name and their age, and then say something about your own age compared to theirs. Your code should result in a conversation following this example:\n",
    "\n",
    "> `Hello there! What is your name?`\n",
    "\n",
    "> -- Emily.\n",
    "\n",
    "> `Nice to meet you, Emily. How old are you?`\n",
    "\n",
    "> -- 23\n",
    "\n",
    "> `I'm 25 years old, so I'm 2 years older than you.`\n",
    "\n",
    "Also account for situations where the other person is older or the same age. You will need to use `if-else`-statements!"
   ]
  },
  {
   "cell_type": "code",
   "execution_count": 14,
   "metadata": {},
   "outputs": [
    {
     "name": "stdout",
     "output_type": "stream",
     "text": [
      "Hello there! What is your name? Alan\n",
      "Nice to meet you, Alan. How old are you? 110\n",
      "I'm 24 years old, so you're 86 years older than me.\n"
     ]
    }
   ],
   "source": [
    "name = input(\"Hello there! What is your name? \")\n",
    "# finish this code\n",
    "\n",
    "age = int(input(f\"Nice to meet you, {name}. How old are you? \"))\n",
    "\n",
    "if age == 24:\n",
    "    print(\"We are the same age!\")\n",
    "elif age < 24:\n",
    "    print(f\"I'm 24 years old, so I'm {24 - age} years older than you.\")\n",
    "elif age > 24:\n",
    "    print(f\"I'm 24 years old, so you're {age - 24} years older than me.\")"
   ]
  },
  {
   "cell_type": "markdown",
   "metadata": {},
   "source": [
    "## Exercise 3: String Art"
   ]
  },
  {
   "cell_type": "markdown",
   "metadata": {},
   "source": [
    "#### 3a. Drawing figures\n",
    "We start with some repetition of the theory about strings:"
   ]
  },
  {
   "cell_type": "markdown",
   "metadata": {},
   "source": [
    "| Topic | Explanation |\n",
    "|-----------|--------|\n",
    "| `quotes` |\tA string is delimited by single quotes ('...') or double quotes (\"...\") |\n",
    "| `special characters` |\tCertain special characters can be used, such as \"\\n\" (for newline) and \"\\t\" (for a tab) \t|  \t \n",
    "| `printing special characters` |\tTo print the special characters, they must be preceded by a backslash (\\\\)\t |\n",
    "| `continue on next line` |\tA backslash (\\\\) at the end of a line is used to continue a string on the next line\t  \t |\n",
    "| `multi-line strings` |\tA multi-line print statement should be enclosed by three double or three single quotes (\"\"\"...\"\"\" of '''...''')\t | "
   ]
  },
  {
   "cell_type": "markdown",
   "metadata": {},
   "source": [
    "Please run the code snippet below and observe what happens:"
   ]
  },
  {
   "cell_type": "code",
   "execution_count": 15,
   "metadata": {},
   "outputs": [
    {
     "name": "stdout",
     "output_type": "stream",
     "text": [
      "hello\n",
      "\n",
      "To print a newline use \\n\n",
      "She said: 'hello'\n",
      "\tThis is indented\n",
      "This is a very, very, very, very, very, very long print statement\n",
      "\n",
      "This is a multi-line print statement\n",
      "First line\n",
      "Second line\n",
      "\n"
     ]
    }
   ],
   "source": [
    "print('hello\\n')\n",
    "print('To print a newline use \\\\n')\n",
    "print('She said: \\'hello\\'')\n",
    "print('\\tThis is indented')\n",
    "print('This is a very, very, very, very, very, very \\\n",
    "long print statement')\n",
    "print('''\n",
    "This is a multi-line print statement\n",
    "First line\n",
    "Second line\n",
    "''')"
   ]
  },
  {
   "cell_type": "markdown",
   "metadata": {},
   "source": [
    "Now write a Python script that prints the following figure using **only one line of code**! (so don't use triple quotes)\n",
    "\n",
    "        | | |\n",
    "         @ @\n",
    "          u\n",
    "        |\"\"\"|\n"
   ]
  },
  {
   "cell_type": "code",
   "execution_count": 17,
   "metadata": {},
   "outputs": [
    {
     "name": "stdout",
     "output_type": "stream",
     "text": [
      "| | |\n",
      " @ @\n",
      "  u\n",
      "|\"\"\"|\n"
     ]
    }
   ],
   "source": [
    "# your code here\n",
    "print('| | |\\n @ @\\n  u\\n|\"\"\"|')"
   ]
  },
  {
   "cell_type": "markdown",
   "metadata": {},
   "source": [
    "#### 3b. Colors\n",
    "We start again with some repetition of the theory:"
   ]
  },
  {
   "cell_type": "markdown",
   "metadata": {},
   "source": [
    "| Topic | Explanation |\n",
    "|-----------|--------|\n",
    "| a = b + c\t| if b and c are strings: concatenate b and c to form a new string a| \n",
    "| a = b * c\t| if b is an integer and c is a string: c is repeated b times to form a new string a |\n",
    "| a[0] |\t the first character of string a  |\n",
    "| len(a) |\t the number of characters in string a |\n",
    "| min(a) |\t the smallest element in string a (alphabetically first) |\n",
    "| max(a) |\t the largest element in string a (alphabetically last) |"
   ]
  },
  {
   "cell_type": "markdown",
   "metadata": {},
   "source": [
    "Please run the code snippet below and observe what happens:"
   ]
  },
  {
   "cell_type": "code",
   "execution_count": 18,
   "metadata": {},
   "outputs": [
    {
     "name": "stdout",
     "output_type": "stream",
     "text": [
      "the cat is on the mat\n",
      "thethethethethe\n",
      "The first character of cat is c\n",
      "The word c has, 3 characters\n"
     ]
    }
   ],
   "source": [
    "b = 'the'\n",
    "c = 'cat'\n",
    "d = ' is on the mat'\n",
    "a = b + ' ' + c + d\n",
    "print(a)\n",
    "a = b * 5\n",
    "print(a)\n",
    "print('The first character of', c, 'is' , c[0])\n",
    "print('The word c has,', len(c) ,'characters')"
   ]
  },
  {
   "cell_type": "markdown",
   "metadata": {},
   "source": [
    "Now write a program that asks users for their favorite color. Create the following output (assuming \"red\" is the chosen color). Use \"+\" and \"\\*\".\n",
    "It should work with any color name though.\n",
    "\n",
    "```xml\n",
    "red red red red red red red red red red  \n",
    "red                                 red\n",
    "red                                 red\n",
    "red red red red red red red red red red\n",
    "```"
   ]
  },
  {
   "cell_type": "code",
   "execution_count": 29,
   "metadata": {},
   "outputs": [
    {
     "name": "stdout",
     "output_type": "stream",
     "text": [
      "what is your favorite color? blue\n",
      "blue blue blue blue blue blue blue blue blue blue \n",
      "blue                                         blue\n",
      "blue                                         blue\n",
      "blue blue blue blue blue blue blue blue blue blue \n"
     ]
    }
   ],
   "source": [
    "color = input('what is your favorite color? ')\n",
    "\n",
    "print((color + \" \") * 10)\n",
    "print(color + 8 * (\" \" * (len(color) + 1)) + \" \" + color)\n",
    "print(color + 8 * (\" \" * (len(color) + 1)) + \" \" + color)\n",
    "print((color + \" \") * 10)"
   ]
  },
  {
   "cell_type": "markdown",
   "metadata": {},
   "source": [
    "## Exercise 4: String methods \n",
    "\n",
    "Remember that you can see all methods of the class `str` by using `dir()`. You can ignore all methods that start with one or two underscores. "
   ]
  },
  {
   "cell_type": "code",
   "execution_count": 30,
   "metadata": {},
   "outputs": [
    {
     "data": {
      "text/plain": [
       "['__add__',\n",
       " '__class__',\n",
       " '__contains__',\n",
       " '__delattr__',\n",
       " '__dir__',\n",
       " '__doc__',\n",
       " '__eq__',\n",
       " '__format__',\n",
       " '__ge__',\n",
       " '__getattribute__',\n",
       " '__getitem__',\n",
       " '__getnewargs__',\n",
       " '__gt__',\n",
       " '__hash__',\n",
       " '__init__',\n",
       " '__init_subclass__',\n",
       " '__iter__',\n",
       " '__le__',\n",
       " '__len__',\n",
       " '__lt__',\n",
       " '__mod__',\n",
       " '__mul__',\n",
       " '__ne__',\n",
       " '__new__',\n",
       " '__reduce__',\n",
       " '__reduce_ex__',\n",
       " '__repr__',\n",
       " '__rmod__',\n",
       " '__rmul__',\n",
       " '__setattr__',\n",
       " '__sizeof__',\n",
       " '__str__',\n",
       " '__subclasshook__',\n",
       " 'capitalize',\n",
       " 'casefold',\n",
       " 'center',\n",
       " 'count',\n",
       " 'encode',\n",
       " 'endswith',\n",
       " 'expandtabs',\n",
       " 'find',\n",
       " 'format',\n",
       " 'format_map',\n",
       " 'index',\n",
       " 'isalnum',\n",
       " 'isalpha',\n",
       " 'isascii',\n",
       " 'isdecimal',\n",
       " 'isdigit',\n",
       " 'isidentifier',\n",
       " 'islower',\n",
       " 'isnumeric',\n",
       " 'isprintable',\n",
       " 'isspace',\n",
       " 'istitle',\n",
       " 'isupper',\n",
       " 'join',\n",
       " 'ljust',\n",
       " 'lower',\n",
       " 'lstrip',\n",
       " 'maketrans',\n",
       " 'partition',\n",
       " 'replace',\n",
       " 'rfind',\n",
       " 'rindex',\n",
       " 'rjust',\n",
       " 'rpartition',\n",
       " 'rsplit',\n",
       " 'rstrip',\n",
       " 'split',\n",
       " 'splitlines',\n",
       " 'startswith',\n",
       " 'strip',\n",
       " 'swapcase',\n",
       " 'title',\n",
       " 'translate',\n",
       " 'upper',\n",
       " 'zfill']"
      ]
     },
     "execution_count": 30,
     "metadata": {},
     "output_type": "execute_result"
    }
   ],
   "source": [
    "dir(str)"
   ]
  },
  {
   "cell_type": "markdown",
   "metadata": {},
   "source": [
    "To see the explanation for a method of this class,  you can use `help(str.method)`. For example:"
   ]
  },
  {
   "cell_type": "code",
   "execution_count": 32,
   "metadata": {},
   "outputs": [
    {
     "name": "stdout",
     "output_type": "stream",
     "text": [
      "Help on method_descriptor:\n",
      "\n",
      "count(...)\n",
      "    S.count(sub[, start[, end]]) -> int\n",
      "    \n",
      "    Return the number of non-overlapping occurrences of substring sub in\n",
      "    string S[start:end].  Optional arguments start and end are\n",
      "    interpreted as in slice notation.\n",
      "\n"
     ]
    }
   ],
   "source": [
    "help(str.count)"
   ]
  },
  {
   "cell_type": "markdown",
   "metadata": {},
   "source": [
    "#### 4a. Counting vowels\n",
    "Count how many of each vowel (a,e,i,o,u) there are in the text string in the next cell. Print the count for each vowel with a single formatted string. Remember that vowels can be both lower and uppercase."
   ]
  },
  {
   "cell_type": "code",
   "execution_count": 39,
   "metadata": {},
   "outputs": [
    {
     "name": "stdout",
     "output_type": "stream",
     "text": [
      "A: 98, E: 132, I: 76, O: 94, U: 53\n"
     ]
    }
   ],
   "source": [
    "text = \"\"\"But I must explain to you how all this mistaken idea of denouncing pleasure and praising pain was born \n",
    "and I will give you a complete account of the system, and expound the actual teachings of the great explorer of the \n",
    "truth, the master-builder of human happiness. No one rejects, dislikes, or avoids pleasure itself, because it is \n",
    "pleasure, but because those who do not know how to pursue pleasure rationally encounter consequences that are \n",
    "extremely painful. Nor again is there anyone who loves or pursues or desires to obtain pain of itself, because it is \n",
    "pain, but because occasionally circumstances occur in which toil and pain can procure him some great pleasure. \n",
    "To take a trivial example, which of us ever undertakes laborious physical exercise, except to obtain some advantage \n",
    "from it? But who has any right to find fault with a man who chooses to enjoy a pleasure that has no annoying \n",
    "consequences, or one who avoids a pain that produces no resultant pleasure? On the other hand, we denounce with \n",
    "righteous indignation and dislike men who are so beguiled and demoralized by the charms of pleasure of the moment, \n",
    "so blinded by desire, that they cannot foresee the pain and trouble that are bound to ensue; and equal blame belongs \n",
    "to those who fail in their duty through weakness of will, which is the same as saying through shrinking from toil \n",
    "and pain.\"\"\"\n",
    "\n",
    "# your code here\n",
    "print(f'A: {text.lower().count(\"a\")}, E: {text.lower().count(\"e\")}, I: {text.lower().count(\"i\")}, O: {text.lower().count(\"o\")}, U: {text.lower().count(\"u\")}')"
   ]
  },
  {
   "cell_type": "markdown",
   "metadata": {},
   "source": [
    "#### 4b. Printing the lexicon\n",
    "Have a good look at the internal representation of the string below. Use a combination of string methods (you will need at least 3 different ones and some will have to be used multiple times) in the correct order to remove punctuation and redundant whitespaces, and print each word in lowercase characters on a new line. The result should look like:\n",
    "\n",
    "`the  \n",
    "quick  \n",
    "brown  \n",
    "fox  \n",
    "jumps  \n",
    "etc.`"
   ]
  },
  {
   "cell_type": "code",
   "execution_count": 74,
   "metadata": {
    "scrolled": true
   },
   "outputs": [
    {
     "name": "stdout",
     "output_type": "stream",
     "text": [
      "           The quick, brown fox jumps over a lazy dog.\tDJs flock by when MTV ax quiz prog. \n",
      "Junk MTV quiz graced by fox whelps.\tBawds jog, flick quartz, vex nymphs. \n",
      "Waltz, bad nymph, for quick jigs vex!\tFox nymphs grab quick-jived waltz. \n",
      "Brick quiz whangs jumpy veldt fox.       \n",
      "\n",
      "'           The quick, brown fox jumps over a lazy dog.\\tDJs flock by when MTV ax quiz prog. \\nJunk MTV quiz graced by fox whelps.\\tBawds jog, flick quartz, vex nymphs. \\nWaltz, bad nymph, for quick jigs vex!\\tFox nymphs grab quick-jived waltz. \\nBrick quiz whangs jumpy veldt fox.       '\n"
     ]
    }
   ],
   "source": [
    "text = \"\"\"           The quick, brown fox jumps over a lazy dog.\\tDJs flock by when MTV ax quiz prog. \n",
    "Junk MTV quiz graced by fox whelps.\\tBawds jog, flick quartz, vex nymphs. \n",
    "Waltz, bad nymph, for quick jigs vex!\\tFox nymphs grab quick-jived waltz. \n",
    "Brick quiz whangs jumpy veldt fox.       \"\"\"\n",
    "\n",
    "print(text)\n",
    "print()\n",
    "print(repr(text))"
   ]
  },
  {
   "cell_type": "code",
   "execution_count": 75,
   "metadata": {},
   "outputs": [
    {
     "name": "stdout",
     "output_type": "stream",
     "text": [
      "the\n",
      "quick\n",
      "brown\n",
      "fox\n",
      "jumps\n",
      "over\n",
      "a\n",
      "lazy\n",
      "dog\n",
      "djs\n",
      "flock\n",
      "by\n",
      "when\n",
      "mtv\n",
      "ax\n",
      "quiz\n",
      "prog\n",
      "junk\n",
      "mtv\n",
      "quiz\n",
      "graced\n",
      "by\n",
      "fox\n",
      "whelps\n",
      "bawds\n",
      "jog\n",
      "flick\n",
      "quartz\n",
      "vex\n",
      "nymphs\n",
      "waltz\n",
      "bad\n",
      "nymph\n",
      "for\n",
      "quick\n",
      "jigs\n",
      "vex\n",
      "fox\n",
      "nymphs\n",
      "grab\n",
      "quick-jived\n",
      "waltz\n",
      "brick\n",
      "quiz\n",
      "whangs\n",
      "jumpy\n",
      "veldt\n",
      "fox\n"
     ]
    }
   ],
   "source": [
    "text = text.lower()\n",
    "text = text.replace(\".\", \" \")\n",
    "text = text.replace(\",\", \" \")\n",
    "text = text.replace(\"!\", \" \")\n",
    "text = text.split()\n",
    "for word in text:\n",
    "    print(word)"
   ]
  },
  {
   "cell_type": "markdown",
   "metadata": {},
   "source": [
    "#### 4c. Passwords\n",
    "\n",
    "Write a program that asks a user for a password and checks some simple requirements of a password. If necessary, print out the following warnings (use if-statements):\n",
    "\n",
    "1. Your password should contain at least 6 characters.\n",
    "2. Your password should contain no more than 12 characters.\n",
    "3. Your password only contains alphabetic characters! Please also use digits and/or special characters.\n",
    "4. Your password only contains digits! Please also use alphabetic and/or special characters.\n",
    "5. Your password should contain at least one special character.\n",
    "6. Your password contains only lowercase letters! Please also use uppercase letters.\n",
    "7. Your password contains only uppercase letters! Please also use lowercase letters."
   ]
  },
  {
   "cell_type": "code",
   "execution_count": 87,
   "metadata": {},
   "outputs": [
    {
     "name": "stdout",
     "output_type": "stream",
     "text": [
      "Please enter your password: password\n",
      "Your password only contains alphabetic characters! Please also use digits and/or special characters.\n",
      "Your password should contain at least one special character.\n",
      "Your password contains only lowercase letters! Please also use uppercase letters.\n"
     ]
    }
   ],
   "source": [
    "# your code here\n",
    "password = input(\"Please enter your password: \")\n",
    "\n",
    "if len(password) < 6:\n",
    "    print(\"Your password should contain at least 6 characters.\")\n",
    "if len(password) > 12:\n",
    "    print(\"Your password should contain no more than 12 characters.\")\n",
    "if all([c.isalpha() for c in password]):\n",
    "    print(\"Your password only contains alphabetic characters! Please also use digits and/or special characters.\")\n",
    "if all([c.isnumeric() for c in password]):\n",
    "    print(\"Your password only contains digits! Please also use alphabetic and/or special characters.\")\n",
    "if all([c.isalnum() for c in password]):\n",
    "    print(\"Your password should contain at least one special character.\")\n",
    "if password.lower() == password:\n",
    "    print(\"Your password contains only lowercase letters! Please also use uppercase letters.\")\n",
    "if password.upper() == password:\n",
    "    print(\"Your password contains only uppercase letters! Please also use lowercase letters.\")"
   ]
  },
  {
   "cell_type": "markdown",
   "metadata": {},
   "source": [
    "## Exercise 5: Boolean Logic and Conditions"
   ]
  },
  {
   "cell_type": "markdown",
   "metadata": {},
   "source": [
    "#### 5a. Speeding\n",
    "\n",
    "Write code to solve the following scenario:\n",
    "\n",
    "You are driving a little too fast, and a police officer stops you. Write code to compute and print the result, encoded as a string: 'no ticket', 'small ticket', 'big ticket'. If speed is 60 or less, the result is 'no ticket'. If speed is between 61 and 80 inclusive, the result is 'small ticket'. If speed is 81 or more, the result is 'big ticket'. Unless it is your birthday -- on that day, your speed can be 5 higher in all cases.\n"
   ]
  },
  {
   "cell_type": "code",
   "execution_count": 104,
   "metadata": {},
   "outputs": [
    {
     "name": "stdout",
     "output_type": "stream",
     "text": [
      "No ticket.\n"
     ]
    }
   ],
   "source": [
    "# your code here\n",
    "speed = 65\n",
    "birthday = True\n",
    "\n",
    "if birthday:\n",
    "    speed = speed - 5\n",
    "\n",
    "if speed <= 60:\n",
    "    print(\"No ticket.\")\n",
    "elif 61 <= speed <= 80:\n",
    "    print(\"Small ticket.\")\n",
    "else:\n",
    "    print(\"Big ticket.\")"
   ]
  },
  {
   "cell_type": "markdown",
   "metadata": {},
   "source": [
    "#### 5b. Alarm clock\n",
    "\n",
    "Write code to set you alarm clock! Given the day of the week and information about whether you are currently on vacation or not, your code should print the time you want to be woken up following these constraints: \n",
    "\n",
    "Weekdays, the alarm should be \"7:00\" and on the weekend it should be \"10:00\". Unless we are on vacation -- then on weekdays it should be \"10:00\" and weekends it should be \"off\".\n",
    "\n",
    "\n",
    "Encode the weeks days as ints in the following way: 0=Sun, 1=Mon, 2=Tue, ...6=Sat. Encode the vacation infromation as boolean. Your code should assign the correct time to a variable as a string (following this format: \"7:00\") and print it.\n",
    "\n",
    "Note: Encoding the days as an integer helps you with defining conditions. You can check whether the week day is in a certain interval (instead of writing code for every single day). "
   ]
  },
  {
   "cell_type": "code",
   "execution_count": 110,
   "metadata": {},
   "outputs": [
    {
     "name": "stdout",
     "output_type": "stream",
     "text": [
      "The alarm is set to: off\n"
     ]
    }
   ],
   "source": [
    "# your code here\n",
    "vacation = True\n",
    "day = 0\n",
    "\n",
    "alarm = None\n",
    "\n",
    "# Weekdays\n",
    "if 1 <= day <=5:\n",
    "    if vacation:\n",
    "        alarm = \"10:00\"\n",
    "    else:\n",
    "        alarm = \"7:00\"\n",
    "# Weekend\n",
    "else:\n",
    "    if vacation:\n",
    "        alarm = \"off\"\n",
    "    else:\n",
    "        alarm = \"10:00\"\n",
    "print(f\"The alarm is set to: {alarm}\")"
   ]
  },
  {
   "cell_type": "markdown",
   "metadata": {},
   "source": [
    "#### 5c. Parcel delivery\n",
    "The required postage for an  international parcel delivery service is calculated based on item weight and country of destination:\n",
    "\n",
    "\n",
    "| Tariff zone | 0 - 2 kg | 2 - 5 kg | 5 - 10 kg | 10 - 20 kg | 20 - 30 kg |\n",
    "|-------------|----------|----------|-----------|------------|------------|\n",
    "|EUR 1 | € 13.00 | € 19.50 | € 25.00 | € 34.00 | € 45.00 | \n",
    "|EUR 2 | € 18.50 | € 25.00 | € 31.00 | € 40.00 | € 55.00 | \n",
    "|World | € 24.30 | € 34.30 | € 58.30 | € 105.30 | - | \n",
    "\n",
    "Ask a user for the `weight` and `zone`. Use (nested) `if`-statements to find the required postage based on these variables. Assign the result to a variable `postage` and print the result using a full sentence:\n",
    "\n",
    "`The price of sending a [...] kg parcel to the [...] zone is € [...].`"
   ]
  },
  {
   "cell_type": "code",
   "execution_count": 119,
   "metadata": {},
   "outputs": [
    {
     "name": "stdout",
     "output_type": "stream",
     "text": [
      "Enter the weight of the item in kg: 2\n",
      "Enter the tariff zone: World\n",
      "The price of sending a 2kg parcel to the World zone is €34.3\n"
     ]
    }
   ],
   "source": [
    "# your code here\n",
    "weight = int(input(\"Enter the weight of the item in kg: \"))\n",
    "zone = input(\"Enter the tariff zone: \")\n",
    "\n",
    "postage = None\n",
    "if 0 <= weight < 2:\n",
    "        if zone == 'EUR 1':\n",
    "            postage = 13.0\n",
    "        elif zone == 'EUR 2':\n",
    "            postage = 18.5\n",
    "        elif zone == 'World':\n",
    "            postage = 24.3\n",
    "if 2 <= weight < 5:\n",
    "        if zone == 'EUR 1':\n",
    "            postage = 19.5\n",
    "        elif zone == 'EUR 2':\n",
    "            postage = 25.0\n",
    "        elif zone == 'World':\n",
    "            postage = 34.3\n",
    "if 5 <= weight < 10:\n",
    "        if zone == 'EUR 1':\n",
    "            postage = 25.0\n",
    "        elif zone == 'EUR 2':\n",
    "            postage = 31.0\n",
    "        elif zone == 'World':\n",
    "            postage = 58.3\n",
    "if 10 <= weight < 20:\n",
    "        if zone == 'EUR 1':\n",
    "            postage = 34.0\n",
    "        elif zone == 'EUR 2':\n",
    "            postage = 40.0\n",
    "        elif zone == 'World':\n",
    "            postage = 105.3\n",
    "if 20 <= weight < 30:\n",
    "        if zone == 'EUR 1':\n",
    "            postage = 45.0\n",
    "        elif zone == 'EUR 2':\n",
    "            postage = 55.0\n",
    "        elif zone == 'World':\n",
    "            postage = \"-\"\n",
    "\n",
    "print(f\"The price of sending a {weight}kg parcel to the {zone} zone is €{postage}\")"
   ]
  }
 ],
 "metadata": {
  "anaconda-cloud": {},
  "kernelspec": {
   "display_name": "Python 3 (ipykernel)",
   "language": "python",
   "name": "python3"
  },
  "language_info": {
   "codemirror_mode": {
    "name": "ipython",
    "version": 3
   },
   "file_extension": ".py",
   "mimetype": "text/x-python",
   "name": "python",
   "nbconvert_exporter": "python",
   "pygments_lexer": "ipython3",
   "version": "3.8.10"
  }
 },
 "nbformat": 4,
 "nbformat_minor": 4
}
