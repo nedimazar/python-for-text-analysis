{
 "cells": [
  {
   "cell_type": "markdown",
   "metadata": {},
   "source": [
    "# Assignment 2: Containers\n",
    "\n",
    "**Deadline: Tuesday, September 20, 2022 before 17:00** \n",
    "\n",
    "- Please name your files:\n",
    "    * ASSIGNMENT_2_FIRSTNAME_LASTNAME.ipynb \n",
    "    * assignment2_utils.py\n",
    "- Please store the two files in a folder called ASSIGNMENT_2_FIRSTNAME_LASTNAME\n",
    "- Please zip your folder and please follow the following naming convention for the zip file: ASSIGNMENT_2_FIRSTNAME_LASTNAME.zip\n",
    "- Please submit your assignment on Canvas: Assignment 2\n",
    "- If you have **questions** about this topic, please contact us **(cltl.python.course@gmail.com)**. Questions and answers will be collected on Piazza, so please check if your question has already been answered first.\n",
    "\n",
    "In this block, we covered the following chapters:\n",
    "- Chapter 05 - Core concepts of containers\n",
    "- Chapter 06 - Lists\n",
    "- Chapter 07 - Sets\n",
    "- Chapter 08 - Comparison of lists and sets\n",
    "- Chapter 09 - Looping over containers.\n",
    "- Chapter 10 - Dictionaries\n",
    "- Chapter 11 - Functions and scope\n",
    "\n",
    "In this assignment, you will be asked to show what you have learned from the topics above! \n",
    "\n",
    "**Finding solutions online**\n",
    "\n",
    "Very often, you can find good solutions online. We encourage you to use online resources when you get stuck. However, please always try to understand the code you find and indicate that it is not your own. Use the following format to mark code written by someone else:\n",
    "\n",
    "###Taken from [link] [date]\n",
    "\n",
    "[code]\n",
    "\n",
    "\\###\n",
    "\n",
    "Please use a similar format to indicate that you have worked with a classmate (e.g. mention the name instead of the link). \n",
    "\n",
    "*Please stick to this strategy for all course assignments.*"
   ]
  },
  {
   "cell_type": "markdown",
   "metadata": {},
   "source": [
    "## Exercise 1: Beersong\n",
    "*99 Bottles of Beer* is a traditional song in the United States and Canada. Write a python program that generates the lyrics to the song."
   ]
  },
  {
   "cell_type": "markdown",
   "metadata": {},
   "source": [
    "The song's simple lyrics are as follows:\n",
    "\n",
    "    99 bottles of beer on the wall,\n",
    "    99 bottles of beer.\n",
    "    Take one down, pass it around,\n",
    "    98 bottles of beer on the wall.\n",
    "\n",
    "The same verse is repeated, each time with one fewer bottle. The song\n",
    "is completed when the singer or singers reach zero. After the last bottle\n",
    "is taken down and passed around, there is a special verse:\n",
    "\n",
    "    No more bottles of beer on the wall,\n",
    "    no more bottles of beer.\n",
    "    Go to the store and buy some more,\n",
    "    99 bottles of beer on the wall."
   ]
  },
  {
   "cell_type": "markdown",
   "metadata": {},
   "source": [
    "Notes:\n",
    "\n",
    "* Leave a blank line between verses.\n",
    "* Make sure that you print the singular form of \"bottles\" when the counter is at one."
   ]
  },
  {
   "cell_type": "markdown",
   "metadata": {},
   "source": [
    "Hint:\n",
    "\n",
    "* While debugging the program, start from a small number, and\n",
    "change it to 100 when you are done (as shown below).\n",
    "* Use variables to prevent code repetition\n",
    "\n",
    "You can use the following code snippet as a start:"
   ]
  },
  {
   "cell_type": "code",
   "execution_count": 129,
   "metadata": {},
   "outputs": [
    {
     "name": "stdout",
     "output_type": "stream",
     "text": [
      "99 bottles of beer on the wall,\n",
      "99 bottles of beer.\n",
      "Take one down, pass it around,\n",
      "98 bottles of beer on the wall.\n",
      "\n",
      "98 bottles of beer on the wall,\n",
      "98 bottles of beer.\n",
      "Take one down, pass it around,\n",
      "97 bottles of beer on the wall.\n",
      "\n",
      "97 bottles of beer on the wall,\n",
      "97 bottles of beer.\n",
      "Take one down, pass it around,\n",
      "96 bottles of beer on the wall.\n",
      "\n",
      "96 bottles of beer on the wall,\n",
      "96 bottles of beer.\n",
      "Take one down, pass it around,\n",
      "95 bottles of beer on the wall.\n",
      "\n",
      "95 bottles of beer on the wall,\n",
      "95 bottles of beer.\n",
      "Take one down, pass it around,\n",
      "94 bottles of beer on the wall.\n",
      "\n",
      "94 bottles of beer on the wall,\n",
      "94 bottles of beer.\n",
      "Take one down, pass it around,\n",
      "93 bottles of beer on the wall.\n",
      "\n",
      "93 bottles of beer on the wall,\n",
      "93 bottles of beer.\n",
      "Take one down, pass it around,\n",
      "92 bottles of beer on the wall.\n",
      "\n",
      "92 bottles of beer on the wall,\n",
      "92 bottles of beer.\n",
      "Take one down, pass it around,\n",
      "91 bottles of beer on the wall.\n",
      "\n",
      "91 bottles of beer on the wall,\n",
      "91 bottles of beer.\n",
      "Take one down, pass it around,\n",
      "90 bottles of beer on the wall.\n",
      "\n",
      "90 bottles of beer on the wall,\n",
      "90 bottles of beer.\n",
      "Take one down, pass it around,\n",
      "89 bottles of beer on the wall.\n",
      "\n",
      "89 bottles of beer on the wall,\n",
      "89 bottles of beer.\n",
      "Take one down, pass it around,\n",
      "88 bottles of beer on the wall.\n",
      "\n",
      "88 bottles of beer on the wall,\n",
      "88 bottles of beer.\n",
      "Take one down, pass it around,\n",
      "87 bottles of beer on the wall.\n",
      "\n",
      "87 bottles of beer on the wall,\n",
      "87 bottles of beer.\n",
      "Take one down, pass it around,\n",
      "86 bottles of beer on the wall.\n",
      "\n",
      "86 bottles of beer on the wall,\n",
      "86 bottles of beer.\n",
      "Take one down, pass it around,\n",
      "85 bottles of beer on the wall.\n",
      "\n",
      "85 bottles of beer on the wall,\n",
      "85 bottles of beer.\n",
      "Take one down, pass it around,\n",
      "84 bottles of beer on the wall.\n",
      "\n",
      "84 bottles of beer on the wall,\n",
      "84 bottles of beer.\n",
      "Take one down, pass it around,\n",
      "83 bottles of beer on the wall.\n",
      "\n",
      "83 bottles of beer on the wall,\n",
      "83 bottles of beer.\n",
      "Take one down, pass it around,\n",
      "82 bottles of beer on the wall.\n",
      "\n",
      "82 bottles of beer on the wall,\n",
      "82 bottles of beer.\n",
      "Take one down, pass it around,\n",
      "81 bottles of beer on the wall.\n",
      "\n",
      "81 bottles of beer on the wall,\n",
      "81 bottles of beer.\n",
      "Take one down, pass it around,\n",
      "80 bottles of beer on the wall.\n",
      "\n",
      "80 bottles of beer on the wall,\n",
      "80 bottles of beer.\n",
      "Take one down, pass it around,\n",
      "79 bottles of beer on the wall.\n",
      "\n",
      "79 bottles of beer on the wall,\n",
      "79 bottles of beer.\n",
      "Take one down, pass it around,\n",
      "78 bottles of beer on the wall.\n",
      "\n",
      "78 bottles of beer on the wall,\n",
      "78 bottles of beer.\n",
      "Take one down, pass it around,\n",
      "77 bottles of beer on the wall.\n",
      "\n",
      "77 bottles of beer on the wall,\n",
      "77 bottles of beer.\n",
      "Take one down, pass it around,\n",
      "76 bottles of beer on the wall.\n",
      "\n",
      "76 bottles of beer on the wall,\n",
      "76 bottles of beer.\n",
      "Take one down, pass it around,\n",
      "75 bottles of beer on the wall.\n",
      "\n",
      "75 bottles of beer on the wall,\n",
      "75 bottles of beer.\n",
      "Take one down, pass it around,\n",
      "74 bottles of beer on the wall.\n",
      "\n",
      "74 bottles of beer on the wall,\n",
      "74 bottles of beer.\n",
      "Take one down, pass it around,\n",
      "73 bottles of beer on the wall.\n",
      "\n",
      "73 bottles of beer on the wall,\n",
      "73 bottles of beer.\n",
      "Take one down, pass it around,\n",
      "72 bottles of beer on the wall.\n",
      "\n",
      "72 bottles of beer on the wall,\n",
      "72 bottles of beer.\n",
      "Take one down, pass it around,\n",
      "71 bottles of beer on the wall.\n",
      "\n",
      "71 bottles of beer on the wall,\n",
      "71 bottles of beer.\n",
      "Take one down, pass it around,\n",
      "70 bottles of beer on the wall.\n",
      "\n",
      "70 bottles of beer on the wall,\n",
      "70 bottles of beer.\n",
      "Take one down, pass it around,\n",
      "69 bottles of beer on the wall.\n",
      "\n",
      "69 bottles of beer on the wall,\n",
      "69 bottles of beer.\n",
      "Take one down, pass it around,\n",
      "68 bottles of beer on the wall.\n",
      "\n",
      "68 bottles of beer on the wall,\n",
      "68 bottles of beer.\n",
      "Take one down, pass it around,\n",
      "67 bottles of beer on the wall.\n",
      "\n",
      "67 bottles of beer on the wall,\n",
      "67 bottles of beer.\n",
      "Take one down, pass it around,\n",
      "66 bottles of beer on the wall.\n",
      "\n",
      "66 bottles of beer on the wall,\n",
      "66 bottles of beer.\n",
      "Take one down, pass it around,\n",
      "65 bottles of beer on the wall.\n",
      "\n",
      "65 bottles of beer on the wall,\n",
      "65 bottles of beer.\n",
      "Take one down, pass it around,\n",
      "64 bottles of beer on the wall.\n",
      "\n",
      "64 bottles of beer on the wall,\n",
      "64 bottles of beer.\n",
      "Take one down, pass it around,\n",
      "63 bottles of beer on the wall.\n",
      "\n",
      "63 bottles of beer on the wall,\n",
      "63 bottles of beer.\n",
      "Take one down, pass it around,\n",
      "62 bottles of beer on the wall.\n",
      "\n",
      "62 bottles of beer on the wall,\n",
      "62 bottles of beer.\n",
      "Take one down, pass it around,\n",
      "61 bottles of beer on the wall.\n",
      "\n",
      "61 bottles of beer on the wall,\n",
      "61 bottles of beer.\n",
      "Take one down, pass it around,\n",
      "60 bottles of beer on the wall.\n",
      "\n",
      "60 bottles of beer on the wall,\n",
      "60 bottles of beer.\n",
      "Take one down, pass it around,\n",
      "59 bottles of beer on the wall.\n",
      "\n",
      "59 bottles of beer on the wall,\n",
      "59 bottles of beer.\n",
      "Take one down, pass it around,\n",
      "58 bottles of beer on the wall.\n",
      "\n",
      "58 bottles of beer on the wall,\n",
      "58 bottles of beer.\n",
      "Take one down, pass it around,\n",
      "57 bottles of beer on the wall.\n",
      "\n",
      "57 bottles of beer on the wall,\n",
      "57 bottles of beer.\n",
      "Take one down, pass it around,\n",
      "56 bottles of beer on the wall.\n",
      "\n",
      "56 bottles of beer on the wall,\n",
      "56 bottles of beer.\n",
      "Take one down, pass it around,\n",
      "55 bottles of beer on the wall.\n",
      "\n",
      "55 bottles of beer on the wall,\n",
      "55 bottles of beer.\n",
      "Take one down, pass it around,\n",
      "54 bottles of beer on the wall.\n",
      "\n",
      "54 bottles of beer on the wall,\n",
      "54 bottles of beer.\n",
      "Take one down, pass it around,\n",
      "53 bottles of beer on the wall.\n",
      "\n",
      "53 bottles of beer on the wall,\n",
      "53 bottles of beer.\n",
      "Take one down, pass it around,\n",
      "52 bottles of beer on the wall.\n",
      "\n",
      "52 bottles of beer on the wall,\n",
      "52 bottles of beer.\n",
      "Take one down, pass it around,\n",
      "51 bottles of beer on the wall.\n",
      "\n",
      "51 bottles of beer on the wall,\n",
      "51 bottles of beer.\n",
      "Take one down, pass it around,\n",
      "50 bottles of beer on the wall.\n",
      "\n",
      "50 bottles of beer on the wall,\n",
      "50 bottles of beer.\n",
      "Take one down, pass it around,\n",
      "49 bottles of beer on the wall.\n",
      "\n",
      "49 bottles of beer on the wall,\n",
      "49 bottles of beer.\n",
      "Take one down, pass it around,\n",
      "48 bottles of beer on the wall.\n",
      "\n",
      "48 bottles of beer on the wall,\n",
      "48 bottles of beer.\n",
      "Take one down, pass it around,\n",
      "47 bottles of beer on the wall.\n",
      "\n",
      "47 bottles of beer on the wall,\n",
      "47 bottles of beer.\n",
      "Take one down, pass it around,\n",
      "46 bottles of beer on the wall.\n",
      "\n",
      "46 bottles of beer on the wall,\n",
      "46 bottles of beer.\n",
      "Take one down, pass it around,\n",
      "45 bottles of beer on the wall.\n",
      "\n",
      "45 bottles of beer on the wall,\n",
      "45 bottles of beer.\n",
      "Take one down, pass it around,\n",
      "44 bottles of beer on the wall.\n",
      "\n",
      "44 bottles of beer on the wall,\n",
      "44 bottles of beer.\n",
      "Take one down, pass it around,\n",
      "43 bottles of beer on the wall.\n",
      "\n",
      "43 bottles of beer on the wall,\n",
      "43 bottles of beer.\n",
      "Take one down, pass it around,\n",
      "42 bottles of beer on the wall.\n",
      "\n",
      "42 bottles of beer on the wall,\n",
      "42 bottles of beer.\n",
      "Take one down, pass it around,\n",
      "41 bottles of beer on the wall.\n",
      "\n",
      "41 bottles of beer on the wall,\n",
      "41 bottles of beer.\n",
      "Take one down, pass it around,\n",
      "40 bottles of beer on the wall.\n",
      "\n",
      "40 bottles of beer on the wall,\n",
      "40 bottles of beer.\n",
      "Take one down, pass it around,\n",
      "39 bottles of beer on the wall.\n",
      "\n",
      "39 bottles of beer on the wall,\n",
      "39 bottles of beer.\n",
      "Take one down, pass it around,\n",
      "38 bottles of beer on the wall.\n",
      "\n",
      "38 bottles of beer on the wall,\n",
      "38 bottles of beer.\n",
      "Take one down, pass it around,\n",
      "37 bottles of beer on the wall.\n",
      "\n",
      "37 bottles of beer on the wall,\n",
      "37 bottles of beer.\n",
      "Take one down, pass it around,\n",
      "36 bottles of beer on the wall.\n",
      "\n",
      "36 bottles of beer on the wall,\n",
      "36 bottles of beer.\n",
      "Take one down, pass it around,\n",
      "35 bottles of beer on the wall.\n",
      "\n",
      "35 bottles of beer on the wall,\n",
      "35 bottles of beer.\n",
      "Take one down, pass it around,\n",
      "34 bottles of beer on the wall.\n",
      "\n",
      "34 bottles of beer on the wall,\n",
      "34 bottles of beer.\n",
      "Take one down, pass it around,\n",
      "33 bottles of beer on the wall.\n",
      "\n",
      "33 bottles of beer on the wall,\n",
      "33 bottles of beer.\n",
      "Take one down, pass it around,\n",
      "32 bottles of beer on the wall.\n",
      "\n",
      "32 bottles of beer on the wall,\n",
      "32 bottles of beer.\n",
      "Take one down, pass it around,\n",
      "31 bottles of beer on the wall.\n",
      "\n",
      "31 bottles of beer on the wall,\n",
      "31 bottles of beer.\n",
      "Take one down, pass it around,\n",
      "30 bottles of beer on the wall.\n",
      "\n",
      "30 bottles of beer on the wall,\n",
      "30 bottles of beer.\n",
      "Take one down, pass it around,\n",
      "29 bottles of beer on the wall.\n",
      "\n",
      "29 bottles of beer on the wall,\n",
      "29 bottles of beer.\n",
      "Take one down, pass it around,\n",
      "28 bottles of beer on the wall.\n",
      "\n",
      "28 bottles of beer on the wall,\n",
      "28 bottles of beer.\n",
      "Take one down, pass it around,\n",
      "27 bottles of beer on the wall.\n",
      "\n",
      "27 bottles of beer on the wall,\n",
      "27 bottles of beer.\n",
      "Take one down, pass it around,\n",
      "26 bottles of beer on the wall.\n",
      "\n",
      "26 bottles of beer on the wall,\n",
      "26 bottles of beer.\n",
      "Take one down, pass it around,\n",
      "25 bottles of beer on the wall.\n",
      "\n",
      "25 bottles of beer on the wall,\n",
      "25 bottles of beer.\n",
      "Take one down, pass it around,\n",
      "24 bottles of beer on the wall.\n",
      "\n",
      "24 bottles of beer on the wall,\n",
      "24 bottles of beer.\n",
      "Take one down, pass it around,\n",
      "23 bottles of beer on the wall.\n",
      "\n",
      "23 bottles of beer on the wall,\n",
      "23 bottles of beer.\n",
      "Take one down, pass it around,\n",
      "22 bottles of beer on the wall.\n",
      "\n",
      "22 bottles of beer on the wall,\n",
      "22 bottles of beer.\n",
      "Take one down, pass it around,\n",
      "21 bottles of beer on the wall.\n",
      "\n",
      "21 bottles of beer on the wall,\n",
      "21 bottles of beer.\n",
      "Take one down, pass it around,\n",
      "20 bottles of beer on the wall.\n",
      "\n",
      "20 bottles of beer on the wall,\n",
      "20 bottles of beer.\n",
      "Take one down, pass it around,\n",
      "19 bottles of beer on the wall.\n",
      "\n",
      "19 bottles of beer on the wall,\n",
      "19 bottles of beer.\n",
      "Take one down, pass it around,\n",
      "18 bottles of beer on the wall.\n",
      "\n",
      "18 bottles of beer on the wall,\n",
      "18 bottles of beer.\n",
      "Take one down, pass it around,\n",
      "17 bottles of beer on the wall.\n",
      "\n",
      "17 bottles of beer on the wall,\n",
      "17 bottles of beer.\n",
      "Take one down, pass it around,\n",
      "16 bottles of beer on the wall.\n",
      "\n",
      "16 bottles of beer on the wall,\n",
      "16 bottles of beer.\n",
      "Take one down, pass it around,\n",
      "15 bottles of beer on the wall.\n",
      "\n",
      "15 bottles of beer on the wall,\n",
      "15 bottles of beer.\n",
      "Take one down, pass it around,\n",
      "14 bottles of beer on the wall.\n",
      "\n",
      "14 bottles of beer on the wall,\n",
      "14 bottles of beer.\n",
      "Take one down, pass it around,\n",
      "13 bottles of beer on the wall.\n",
      "\n",
      "13 bottles of beer on the wall,\n",
      "13 bottles of beer.\n",
      "Take one down, pass it around,\n",
      "12 bottles of beer on the wall.\n",
      "\n",
      "12 bottles of beer on the wall,\n",
      "12 bottles of beer.\n",
      "Take one down, pass it around,\n",
      "11 bottles of beer on the wall.\n",
      "\n",
      "11 bottles of beer on the wall,\n",
      "11 bottles of beer.\n",
      "Take one down, pass it around,\n",
      "10 bottles of beer on the wall.\n",
      "\n",
      "10 bottles of beer on the wall,\n",
      "10 bottles of beer.\n",
      "Take one down, pass it around,\n",
      "9 bottles of beer on the wall.\n",
      "\n",
      "9 bottles of beer on the wall,\n",
      "9 bottles of beer.\n",
      "Take one down, pass it around,\n",
      "8 bottles of beer on the wall.\n",
      "\n",
      "8 bottles of beer on the wall,\n",
      "8 bottles of beer.\n",
      "Take one down, pass it around,\n",
      "7 bottles of beer on the wall.\n",
      "\n",
      "7 bottles of beer on the wall,\n",
      "7 bottles of beer.\n",
      "Take one down, pass it around,\n",
      "6 bottles of beer on the wall.\n",
      "\n",
      "6 bottles of beer on the wall,\n",
      "6 bottles of beer.\n",
      "Take one down, pass it around,\n",
      "5 bottles of beer on the wall.\n",
      "\n",
      "5 bottles of beer on the wall,\n",
      "5 bottles of beer.\n",
      "Take one down, pass it around,\n",
      "4 bottles of beer on the wall.\n",
      "\n",
      "4 bottles of beer on the wall,\n",
      "4 bottles of beer.\n",
      "Take one down, pass it around,\n",
      "3 bottles of beer on the wall.\n",
      "\n",
      "3 bottles of beer on the wall,\n",
      "3 bottles of beer.\n",
      "Take one down, pass it around,\n",
      "2 bottles of beer on the wall.\n",
      "\n",
      "2 bottles of beer on the wall,\n",
      "2 bottles of beer.\n",
      "Take one down, pass it around,\n",
      "1 bottles of beer on the wall.\n",
      "\n",
      "1 bottle of beer on the wall,\n",
      "1 bottle of beer.\n",
      "Take one down, pass it around,\n",
      "No more bottles of beer on the wall.\n",
      "\n",
      "No more bottles of beer on the wall,\n",
      "no more bottles of beer.\n",
      "Go to the store and buy some more,\n",
      "99 bottles of beer on the wall.\n",
      "\n"
     ]
    }
   ],
   "source": [
    "start = 99\n",
    "for number in range(start, -1, -1): # change 4 to 99 when you're done with debugging\n",
    "    bottle_text = str(number)\n",
    "    if number == 1:\n",
    "        s = \"\"\n",
    "        last_text = \"No more\"\n",
    "    elif number == 0:\n",
    "        bottle_text = \"No more\"\n",
    "        last_text = start\n",
    "        s = \"s\"\n",
    "    else:\n",
    "        s = \"s\"\n",
    "        last_text = number - 1\n",
    "    print(f'''{bottle_text} bottle{s} of beer on the wall,\n",
    "{bottle_text.lower()} bottle{s} of beer.''')\n",
    "    if not number == 0:\n",
    "        print(f'''Take one down, pass it around,\n",
    "{last_text} bottles of beer on the wall.''')\n",
    "    else:\n",
    "        print(f'''Go to the store and buy some more,\n",
    "{start} bottles of beer on the wall.''')\n",
    "    print()"
   ]
  },
  {
   "cell_type": "markdown",
   "metadata": {},
   "source": [
    "## Exercise 2: list methods"
   ]
  },
  {
   "cell_type": "markdown",
   "metadata": {},
   "source": [
    "In this exercise, we will focus on the following list methods:\n",
    "\n",
    "a.) append\n",
    "\n",
    "b.) count\n",
    "\n",
    "c.) index\n",
    "\n",
    "d.) insert\n",
    "\n",
    "e.) pop\n",
    "\n",
    "For each of the aforementioned list methods:\n",
    "\n",
    "* explain the positional parameters\n",
    "* explain the keyword parameters\n",
    "* you can exclude *self* from your explanation\n",
    "* explain what the goal of the method is and what data type it returns, e.g., string, list, set, etc.\n",
    "* give a working example. Provide also an example by providing a value for keyword parameters (assuming the method has one or more keyword parameters)."
   ]
  },
  {
   "cell_type": "markdown",
   "metadata": {},
   "source": [
    "## a: list.append\n",
    "* The only positional parameter is `object`, the object that we would like to append to a list.\n",
    "* There are no keyword parameters here.\n",
    "* The goal of the method is to add an item to the end of the list that it was called on, the method returns `None`."
   ]
  },
  {
   "cell_type": "code",
   "execution_count": 4,
   "metadata": {},
   "outputs": [
    {
     "data": {
      "text/plain": [
       "[1, 2, 3, 4]"
      ]
     },
     "execution_count": 4,
     "metadata": {},
     "output_type": "execute_result"
    }
   ],
   "source": [
    "nums = [1, 2, 3]\n",
    "nums.append(4)\n",
    "nums"
   ]
  },
  {
   "cell_type": "markdown",
   "metadata": {},
   "source": [
    "## b: count\n",
    "* The only positional argument is `value`, the object that we would like to count in the list.\n",
    "* There are no keyword parameters here.\n",
    "* The goal of the function is the count the number of occurences of `value` in the list that the function was called on, the return value is an integer that is the count."
   ]
  },
  {
   "cell_type": "code",
   "execution_count": 7,
   "metadata": {},
   "outputs": [
    {
     "data": {
      "text/plain": [
       "2"
      ]
     },
     "execution_count": 7,
     "metadata": {},
     "output_type": "execute_result"
    }
   ],
   "source": [
    "[1, 2, 3, 3, 4, 5].count(3)"
   ]
  },
  {
   "cell_type": "markdown",
   "metadata": {},
   "source": [
    "## c: index\n",
    "* Positional arguments:\n",
    "    * `value`: The item that we would like to find the index of.\n",
    "    * `start`: this sets the first index from which the search is carried out.\n",
    "    * `stop`: this sets the last index up to which the search is carried out.\n",
    "* There are no keyword parameters.\n",
    "* The goal of the method is to find the index of item `value` in the list that it was called on. The return value is the integer value of that index.\n",
    "    "
   ]
  },
  {
   "cell_type": "code",
   "execution_count": 16,
   "metadata": {},
   "outputs": [
    {
     "name": "stdout",
     "output_type": "stream",
     "text": [
      "4\n",
      "9\n"
     ]
    }
   ],
   "source": [
    "print([0, 1, 2, 3, 'apple', 5].index('apple'))\n",
    "print([0, 1, 2, 3, 'apple', 5, 6, 'apple', 8, 'apple', 10].index('apple', 8, 10))"
   ]
  },
  {
   "cell_type": "markdown",
   "metadata": {},
   "source": [
    "## d: insert\n",
    "* Positional parameters:\n",
    "    * `index`: This the integer value for the index before which the item should be inserted.\n",
    "    * `object`: This is the object that we want to insert somewhere in the list.\n",
    "* There are no keyword parameters.\n",
    "* The goal of the method is to add the provided item `object` right before the `index`th index of the list it was called on."
   ]
  },
  {
   "cell_type": "code",
   "execution_count": 18,
   "metadata": {},
   "outputs": [
    {
     "data": {
      "text/plain": [
       "[0, 1, 2, 3, 4, 5]"
      ]
     },
     "execution_count": 18,
     "metadata": {},
     "output_type": "execute_result"
    }
   ],
   "source": [
    "nums = [0, 1, 2, 4, 5]\n",
    "nums.insert(3, 3)\n",
    "nums"
   ]
  },
  {
   "cell_type": "markdown",
   "metadata": {},
   "source": [
    "## e: pop\n",
    "* The only positional parameter is `index`: The integer value for the index on the list to remove and return.\n",
    "* There are no keyword parameters.\n",
    "* The goal of the function is to remove and return the item at the `index`th index of the list that it was called on."
   ]
  },
  {
   "cell_type": "code",
   "execution_count": 20,
   "metadata": {},
   "outputs": [
    {
     "name": "stdout",
     "output_type": "stream",
     "text": [
      "Ahmad\n"
     ]
    }
   ],
   "source": [
    "habibis = ['Jamal', 'Ahmad', 'Fatima', 'Mahmood']\n",
    "habibi = habibis.pop(1)\n",
    "print(habibi)"
   ]
  },
  {
   "cell_type": "markdown",
   "metadata": {},
   "source": [
    "## Exercise 3: set methods"
   ]
  },
  {
   "cell_type": "markdown",
   "metadata": {},
   "source": [
    "In this exercise, we will focus on the following set methods:\n",
    "* update\n",
    "* pop\n",
    "* remove\n",
    "* clear\n",
    "\n",
    "For each of the aforementioned set methods:\n",
    "\n",
    "* explain the positional parameters\n",
    "* explain the keyword parameters\n",
    "* you can exclude *self* from your explanation\n",
    "* explain what the goal of the method is and what data type it returns, e.g., string, list, set, etc.\n",
    "* give a working example. Provide also an example by providing a value for keyword parameters (assuming the method has one or more keyword parameters)."
   ]
  },
  {
   "cell_type": "markdown",
   "metadata": {},
   "source": [
    "# Please fill in your answers here: \n",
    "## a: update\n",
    "* Positional arguments are `other`, an iterable, or multiple iterables that contain objects that will be added to the set.\n",
    "* There are no keyword parameters.\n",
    "* The goal of the method is to add elements to a set. Ther return value is `None`\n",
    "\n",
    "\n"
   ]
  },
  {
   "cell_type": "code",
   "execution_count": 26,
   "metadata": {},
   "outputs": [
    {
     "data": {
      "text/plain": [
       "{'fuji', 'granny smith', 'honey crisp', 'macintosh', 'pink lady'}"
      ]
     },
     "execution_count": 26,
     "metadata": {},
     "output_type": "execute_result"
    }
   ],
   "source": [
    "apples = set(['pink lady', 'granny smith', 'honey crisp'])\n",
    "apples.update(['macintosh', 'fuji'])\n",
    "apples"
   ]
  },
  {
   "cell_type": "markdown",
   "metadata": {},
   "source": [
    "## b: pop\n",
    "* This function does not take any positional or keyword parameters.\n",
    "* The goal of the function is to remove and return an arbitrary elememnt from the set it was called on."
   ]
  },
  {
   "cell_type": "code",
   "execution_count": 39,
   "metadata": {},
   "outputs": [
    {
     "data": {
      "text/plain": [
       "'honey crisp'"
      ]
     },
     "execution_count": 39,
     "metadata": {},
     "output_type": "execute_result"
    }
   ],
   "source": [
    "apples = set(['pink lady', 'granny smith', 'honey crisp'])\n",
    "apples.pop()"
   ]
  },
  {
   "cell_type": "markdown",
   "metadata": {},
   "source": [
    "## c: remove\n",
    "* The only positional argument is `element`: The object that we would like to remove from the set.\n",
    "* There are no keyword arguments.\n",
    "* The goal of the method is to remove the provided element from the list that it was called on. If the element is not present in the list, an error is raised."
   ]
  },
  {
   "cell_type": "code",
   "execution_count": 42,
   "metadata": {},
   "outputs": [
    {
     "data": {
      "text/plain": [
       "{'granny smith', 'honey crisp', 'pink lady'}"
      ]
     },
     "execution_count": 42,
     "metadata": {},
     "output_type": "execute_result"
    }
   ],
   "source": [
    "apples = set(['pink lady', 'granny smith', 'honey crisp', 'pear'])\n",
    "apples.remove('pear')\n",
    "apples"
   ]
  },
  {
   "cell_type": "markdown",
   "metadata": {},
   "source": [
    "## d: clear\n",
    "* There are no positional or keyword parameters.\n",
    "* The goal of the method is to remove all elements from a set. The return value is `None`."
   ]
  },
  {
   "cell_type": "code",
   "execution_count": 45,
   "metadata": {},
   "outputs": [
    {
     "data": {
      "text/plain": [
       "set()"
      ]
     },
     "execution_count": 45,
     "metadata": {},
     "output_type": "execute_result"
    }
   ],
   "source": [
    "nothingness = set(['pink lady', 'granny smith', 'honey crisp', 'pear'])\n",
    "nothingness.clear()\n",
    "nothingness"
   ]
  },
  {
   "cell_type": "markdown",
   "metadata": {},
   "source": [
    "## Exercise 4: Analyzing vocabulary using sets\n",
    "Please consider the following two texts:"
   ]
  },
  {
   "cell_type": "markdown",
   "metadata": {},
   "source": [
    "These stories were copied from [here](http://www.english-for-students.com/)."
   ]
  },
  {
   "cell_type": "code",
   "execution_count": 56,
   "metadata": {},
   "outputs": [],
   "source": [
    "a_story = \"\"\"In a far away kingdom, there was a river. This river was home to many golden swans. The swans spent most of their time on the banks of the river. Every six months, the swans would leave a golden feather as a fee for using the lake. The soldiers of the kingdom would collect the feathers and deposit them in the royal treasury. \n",
    "One day, a homeless bird saw the river. \"The water in this river seems so cool and soothing. I will make my home here,\" thought the bird. \n",
    "As soon as the bird settled down near the river, the golden swans noticed her. They came shouting. \"This river belongs to us. We pay a golden feather to the King to use this river. You can not live here.\" \n",
    "\"I am homeless, brothers. I too will pay the rent. Please give me shelter,\" the bird pleaded. \"How will you pay the rent? You do not have golden feathers,\" said the swans laughing. They further added, \"Stop dreaming and leave once.\" The humble bird pleaded many times. But the arrogant swans drove the bird away. \n",
    "\"I will teach them a lesson!\" decided the humiliated bird. \n",
    "She went to the King and said, \"O King! The swans in your river are impolite and unkind. I begged for shelter but they said that they had purchased the river with golden feathers.\" \n",
    "The King was angry with the arrogant swans for having insulted the homeless bird. He ordered his soldiers to bring the arrogant swans to his court. In no time, all the golden swans were brought to the King’s court. \n",
    "\"Do you think the royal treasury depends upon your golden feathers? You can not decide who lives by the river. Leave the river at once or you all will be beheaded!\" shouted the King. \n",
    "The swans shivered with fear on hearing the King. They flew away never to return. The bird built her home near the river and lived there happily forever. The bird gave shelter to all other birds in the river. \"\"\""
   ]
  },
  {
   "cell_type": "code",
   "execution_count": 57,
   "metadata": {},
   "outputs": [],
   "source": [
    "another_story = \"\"\"Long time ago, there lived a King. He was lazy and liked all the comforts of life. He never carried out his duties as a King. \"Our King does not take care of our needs. He also ignores the affairs of his kingdom.\" The people complained. \n",
    "One day, the King went into the forest to hunt. After having wandered for quite sometime, he became thirsty. To his relief, he spotted a lake. As he was drinking water, he suddenly saw a golden swan come out of the lake and perch on a stone. \"Oh! A golden swan. I must capture it,\" thought the King. \n",
    "But as soon as he held his bow up, the swan disappeared. And the King heard a voice, \"I am the Golden Swan. If you want to capture me, you must come to heaven.\" \n",
    "Surprised, the King said, \"Please show me the way to heaven.\" Do good deeds, serve your people and the messenger from heaven would come to fetch you to heaven,\" replied the voice. \n",
    "The selfish King, eager to capture the Swan, tried doing some good deeds in his Kingdom. \"Now, I suppose a messenger will come to take me to heaven,\" he thought. But, no messenger came. \n",
    "The King then disguised himself and went out into the street. There he tried helping an old man. But the old man became angry and said, \"You need not try to help. I am in this miserable state because of out selfish King. He has done nothing for his people.\" \n",
    "Suddenly, the King heard the golden swan’s voice, \"Do good deeds and you will come to heaven.\" It dawned on the King that by doing selfish acts, he will not go to heaven. \n",
    "He realized that his people needed him and carrying out his duties was the only way to heaven. After that day he became a responsible King. \n",
    "\"\"\""
   ]
  },
  {
   "cell_type": "markdown",
   "metadata": {},
   "source": [
    "### Exercise 4a: preprocessing text\n",
    "Before analyzing the two texts, we are first going to preprocess them. \n",
    "Please use a particular string method multiple times to replace the following characters by empty strings in both **a_story** and **another_story**:\n",
    "* newlines: '\\n'\n",
    "* commas: ','\n",
    "* dots: '.'\n",
    "* quotes: '\"'\n",
    "\n",
    "\n",
    "Please assign the processed texts to the variables **cleaned_story** and **cleaned_another_story**."
   ]
  },
  {
   "cell_type": "code",
   "execution_count": 58,
   "metadata": {},
   "outputs": [],
   "source": [
    "# your code here\n",
    "cleaned_story = a_story\n",
    "cleaned_another_story = another_story\n",
    "for character in ['\\n', ',', '.', '\"']:\n",
    "    cleaned_story = cleaned_story.replace(character, '')\n",
    "    cleaned_another_story = cleaned_another_story.replace(character, '')"
   ]
  },
  {
   "cell_type": "markdown",
   "metadata": {},
   "source": [
    "\n",
    "\n",
    "#### Exercise 4b: from text to a list\n",
    "For each text (**cleaned_story** and **cleaned_another_story**), please use a string method to convert **cleaned_story** and **cleaned_another_story** into lists by splitting using spaces. Please call the lists **list_cleaned_story** and **list_cleaned_another_story**."
   ]
  },
  {
   "cell_type": "code",
   "execution_count": 65,
   "metadata": {},
   "outputs": [],
   "source": [
    "#you code here\n",
    "list_cleaned_story = cleaned_story.split(\" \")\n",
    "list_cleaned_another_story = cleaned_another_story.split(\" \")"
   ]
  },
  {
   "cell_type": "markdown",
   "metadata": {},
   "source": [
    "#### Exercise 4c: from a list to a vocabulary (a set)\n",
    "Please create a set for the words in each text by adding each word to a set. In the end, you should have two variables **vocab_a_story** and **vocab_another_story**, each containing the unique words in each story. Please use the output of Exercise 4b as the input for this exercise."
   ]
  },
  {
   "cell_type": "code",
   "execution_count": 72,
   "metadata": {},
   "outputs": [],
   "source": [
    "vocab_a_story = set(list_cleaned_story)"
   ]
  },
  {
   "cell_type": "markdown",
   "metadata": {},
   "source": [
    "do the same for the other text"
   ]
  },
  {
   "cell_type": "code",
   "execution_count": 73,
   "metadata": {},
   "outputs": [],
   "source": [
    "# you code\n",
    "vocab_another_story = set(list_cleaned_another_story)"
   ]
  },
  {
   "cell_type": "markdown",
   "metadata": {},
   "source": [
    "### Exercise 4d: analyzing vocabularies\n",
    "Please analyze the vocabularies by using set methods to determine:\n",
    "* which words occur in both texts\n",
    "* which words only occur in **a_story**\n",
    "* which words only occur in **another_story**"
   ]
  },
  {
   "cell_type": "code",
   "execution_count": 88,
   "metadata": {},
   "outputs": [],
   "source": [
    "# your code\n",
    "# which words occur in both texts\n",
    "occurs_in_both = vocab_a_story.intersection(vocab_another_story)\n",
    "\n",
    "# which words only occur in **a_story**\n",
    "only_in_a_story = vocab_a_story.difference(vocab_another_story)\n",
    "\n",
    "# which words only occur in **another_story**\n",
    "only_in_another_story = vocab_another_story.difference(vocab_a_story)"
   ]
  },
  {
   "cell_type": "markdown",
   "metadata": {},
   "source": [
    "## Exercise 5: counting\n",
    "Below you find a list called **words**, which is a list of strings. \n",
    "\n",
    "a.) Please create a dictionary in which the **key** is the word, and the **value** is the frequency of the word. \n",
    "\n",
    "\n",
    "Exclude all words which meet at least one of the following requirements:\n",
    "\n",
    " * end with the letter e\n",
    " * start with the letter t\n",
    " * start with the letter c and end with the letter w (both conditions must be met)\n",
    " * have six or more letters\n",
    "\n",
    "You are not allowed to use the **collections** module to do this."
   ]
  },
  {
   "cell_type": "code",
   "execution_count": 89,
   "metadata": {},
   "outputs": [],
   "source": [
    "words = ['there',\n",
    " 'was',\n",
    " 'a',\n",
    " 'village',\n",
    " 'near',\n",
    " 'a',\n",
    " 'jungle',\n",
    " 'the',\n",
    " 'village',\n",
    " 'cows',\n",
    " 'used',\n",
    " 'to',\n",
    " 'go',\n",
    " 'up',\n",
    " 'to',\n",
    " 'the',\n",
    " 'jungle',\n",
    " 'in',\n",
    " 'search',\n",
    " 'of',\n",
    " 'food.',\n",
    " 'in',\n",
    " 'the',\n",
    " 'forest',\n",
    " 'there',\n",
    " 'lived',\n",
    " 'a',\n",
    " 'wicked',\n",
    " 'lion',\n",
    " 'he',\n",
    " 'used',\n",
    " 'to',\n",
    " 'kill',\n",
    " 'a',\n",
    " 'cow',\n",
    " 'now',\n",
    " 'and',\n",
    " 'then',\n",
    " 'and',\n",
    " 'eat',\n",
    " 'her',\n",
    " 'this',\n",
    " 'was',\n",
    " 'happening',\n",
    " 'for',\n",
    " 'quite',\n",
    " 'sometime',\n",
    " 'the',\n",
    " 'cows',\n",
    " 'were',\n",
    " 'frightened',\n",
    " 'one',\n",
    " 'day',\n",
    " 'all',\n",
    " 'the',\n",
    " 'cows',\n",
    " 'held',\n",
    " 'a',\n",
    " 'meeting',\n",
    " 'an',\n",
    " 'old',\n",
    " 'cow',\n",
    " 'said',\n",
    " 'listen',\n",
    " 'everybody',\n",
    " 'the',\n",
    " 'lion',\n",
    " 'eats',\n",
    " 'one',\n",
    " 'of',\n",
    " 'us',\n",
    " 'only',\n",
    " 'because',\n",
    " 'we',\n",
    " 'go',\n",
    " 'into',\n",
    " 'the',\n",
    " 'jungle',\n",
    " 'separately',\n",
    " 'from',\n",
    " 'now',\n",
    " 'on',\n",
    " 'we',\n",
    " 'will',\n",
    " 'all',\n",
    " 'be',\n",
    " 'together',\n",
    " 'from',\n",
    " 'then',\n",
    " 'on',\n",
    " 'all',\n",
    " 'the',\n",
    " 'cows',\n",
    " 'went',\n",
    " 'into',\n",
    " 'the',\n",
    " 'jungle',\n",
    " 'in',\n",
    " 'a',\n",
    " 'herd',\n",
    " 'when',\n",
    " 'they',\n",
    " 'heard',\n",
    " 'or',\n",
    " 'saw',\n",
    " 'the',\n",
    " 'lion',\n",
    " 'all',\n",
    " 'of',\n",
    " 'them',\n",
    " 'unitedly',\n",
    " 'moo',\n",
    " 'and',\n",
    " 'chased',\n",
    " 'him',\n",
    " 'away',\n",
    " 'moral',\n",
    " 'divided',\n",
    " 'we',\n",
    " 'fall',\n",
    " 'united',\n",
    " 'we',\n",
    " 'stand']"
   ]
  },
  {
   "cell_type": "code",
   "execution_count": 104,
   "metadata": {},
   "outputs": [
    {
     "data": {
      "text/plain": [
       "{'was': 0.028985507246376812,\n",
       " 'a': 0.08695652173913043,\n",
       " 'near': 0.014492753623188406,\n",
       " 'cows': 0.057971014492753624,\n",
       " 'used': 0.028985507246376812,\n",
       " 'go': 0.028985507246376812,\n",
       " 'up': 0.014492753623188406,\n",
       " 'in': 0.043478260869565216,\n",
       " 'of': 0.043478260869565216,\n",
       " 'food.': 0.014492753623188406,\n",
       " 'lived': 0.014492753623188406,\n",
       " 'lion': 0.043478260869565216,\n",
       " 'kill': 0.014492753623188406,\n",
       " 'now': 0.028985507246376812,\n",
       " 'and': 0.043478260869565216,\n",
       " 'eat': 0.014492753623188406,\n",
       " 'her': 0.014492753623188406,\n",
       " 'for': 0.014492753623188406,\n",
       " 'day': 0.014492753623188406,\n",
       " 'all': 0.057971014492753624,\n",
       " 'held': 0.014492753623188406,\n",
       " 'an': 0.014492753623188406,\n",
       " 'old': 0.014492753623188406,\n",
       " 'said': 0.014492753623188406,\n",
       " 'eats': 0.014492753623188406,\n",
       " 'us': 0.014492753623188406,\n",
       " 'only': 0.014492753623188406,\n",
       " 'into': 0.028985507246376812,\n",
       " 'from': 0.028985507246376812,\n",
       " 'on': 0.028985507246376812,\n",
       " 'will': 0.014492753623188406,\n",
       " 'went': 0.014492753623188406,\n",
       " 'herd': 0.014492753623188406,\n",
       " 'when': 0.014492753623188406,\n",
       " 'heard': 0.014492753623188406,\n",
       " 'or': 0.014492753623188406,\n",
       " 'saw': 0.014492753623188406,\n",
       " 'moo': 0.014492753623188406,\n",
       " 'him': 0.014492753623188406,\n",
       " 'away': 0.014492753623188406,\n",
       " 'moral': 0.014492753623188406,\n",
       " 'fall': 0.014492753623188406,\n",
       " 'stand': 0.014492753623188406}"
      ]
     },
     "execution_count": 104,
     "metadata": {},
     "output_type": "execute_result"
    }
   ],
   "source": [
    "# Below you find a list called words, which is a list of strings.\n",
    "# a.) Please create a dictionary in which the key is the word, and the value is the frequency of the word.\n",
    "# Exclude all words which meet at least one of the following requirements:\n",
    "# end with the letter e\n",
    "# start with the letter t\n",
    "# start with the letter c and end with the letter w (both conditions must be met)\n",
    "# have six or more letters\n",
    "# You are not allowed to use the collections module to do this.\n",
    "\n",
    "filtered = words\n",
    "filtered = [word for word in filtered if word[-1] != 'e']\n",
    "filtered = [word for word in filtered if word[0] != 't']\n",
    "filtered = [word for word in filtered if not (word[0] == 'c' and word[-1] == 'w')]\n",
    "filtered = [word for word in filtered if len(word) < 6]\n",
    "\n",
    "frequencies = {word: filtered.count(word) / len(filtered) for word in filtered}\n",
    "frequencies"
   ]
  },
  {
   "cell_type": "markdown",
   "metadata": {},
   "source": [
    "b.) Analyze your dicitionary by printing:\n",
    "* how many keys it has \n",
    "* what the highest word frequency is\n",
    "* the sum of all values."
   ]
  },
  {
   "cell_type": "code",
   "execution_count": 113,
   "metadata": {},
   "outputs": [
    {
     "name": "stdout",
     "output_type": "stream",
     "text": [
      "43 keys\n",
      "a 0.08695652173913043\n",
      "0.999999999999999\n"
     ]
    }
   ],
   "source": [
    "# How many keys?\n",
    "print(len(frequencies.keys()), \"keys\")\n",
    "\n",
    "# What the highest word frequency is\n",
    "print(max(frequencies, key=frequencies.get), max(frequencies.values()))\n",
    "\n",
    "# The sum of all values\n",
    "print(sum(frequencies.values()))"
   ]
  },
  {
   "cell_type": "markdown",
   "metadata": {},
   "source": [
    "c.) In addition, print the frequencies of the following words using your dictionary (if the word does not occur in the dictionary, print 'WORD does not occur')\n",
    "* up\n",
    "* near\n",
    "* together\n",
    "* lion\n",
    "* cow"
   ]
  },
  {
   "cell_type": "code",
   "execution_count": 114,
   "metadata": {},
   "outputs": [
    {
     "name": "stdout",
     "output_type": "stream",
     "text": [
      "up 0.014492753623188406\n",
      "near 0.014492753623188406\n",
      "together does not occur\n",
      "lion 0.043478260869565216\n",
      "cow does not occur\n"
     ]
    }
   ],
   "source": [
    "for word in ['up', 'near' , 'together', 'lion', 'cow']:\n",
    "    if word in frequencies:\n",
    "        print(word, frequencies[word])\n",
    "    else:\n",
    "        print(f\"{word} does not occur\")"
   ]
  },
  {
   "cell_type": "markdown",
   "metadata": {},
   "source": [
    "## Exercise 6: Functions"
   ]
  },
  {
   "cell_type": "markdown",
   "metadata": {},
   "source": [
    "#### Exercise 6a: the beersong\n",
    "Please write a function that prints the beersong when it is called.\n",
    "The function:\n",
    "* is called `print_beersong`\n",
    "* has one positional parameter `start_number` (this is 99 in the original song) \n",
    "* prints the beer song"
   ]
  },
  {
   "cell_type": "code",
   "execution_count": 130,
   "metadata": {},
   "outputs": [
    {
     "name": "stdout",
     "output_type": "stream",
     "text": [
      "4 bottles of beer on the wall,\n",
      "4 bottles of beer.\n",
      "Take one down, pass it around,\n",
      "3 bottles of beer on the wall.\n",
      "\n",
      "3 bottles of beer on the wall,\n",
      "3 bottles of beer.\n",
      "Take one down, pass it around,\n",
      "2 bottles of beer on the wall.\n",
      "\n",
      "2 bottles of beer on the wall,\n",
      "2 bottles of beer.\n",
      "Take one down, pass it around,\n",
      "1 bottles of beer on the wall.\n",
      "\n",
      "1 bottle of beer on the wall,\n",
      "1 bottle of beer.\n",
      "Take one down, pass it around,\n",
      "No more bottles of beer on the wall.\n",
      "\n",
      "No more bottles of beer on the wall,\n",
      "no more bottles of beer.\n",
      "Go to the store and buy some more,\n",
      "4 bottles of beer on the wall.\n",
      "\n"
     ]
    }
   ],
   "source": [
    "def print_beersong(start_number):\n",
    "    for number in range(start_number, -1, -1): # change 4 to 99 when you're done with debugging\n",
    "        bottle_text = str(number)\n",
    "        if number == 1:\n",
    "            s = \"\"\n",
    "            last_text = \"No more\"\n",
    "        elif number == 0:\n",
    "            bottle_text = \"No more\"\n",
    "            last_text = start_number\n",
    "            s = \"s\"\n",
    "        else:\n",
    "            s = \"s\"\n",
    "            last_text = number - 1\n",
    "        print(f'''{bottle_text} bottle{s} of beer on the wall,\n",
    "{bottle_text.lower()} bottle{s} of beer.''')\n",
    "        if not number == 0:\n",
    "            print(f'''Take one down, pass it around,\n",
    "{last_text} bottles of beer on the wall.''')\n",
    "        else:\n",
    "            print(f'''Go to the store and buy some more,\n",
    "{start_number} bottles of beer on the wall.''')\n",
    "        print()\n",
    "print_beersong(4)"
   ]
  },
  {
   "cell_type": "markdown",
   "metadata": {},
   "source": [
    "#### Exercise 6b: the whatever can be in a bottle song\n",
    "There are other liquids than beer than can be placed in a bottle, e.g., *99 bottles of water on the wall.*.\n",
    "Please write a function that prints a variation of the beersong when it is called. All occurrences of **beer** will be replaced by what the user provides as an argument, e.g., *water*.\n",
    "\n",
    "The function:\n",
    "* is called `print_liquids`\n",
    "* has one positional parameter: `start_number` (this is **99** in the original song) \n",
    "* has one keyword parameter: `liquid` (set the default value to **beer**)\n",
    "* prints a liquids song"
   ]
  },
  {
   "cell_type": "code",
   "execution_count": 131,
   "metadata": {},
   "outputs": [
    {
     "name": "stdout",
     "output_type": "stream",
     "text": [
      "3 bottles of tesgüino on the wall,\n",
      "3 bottles of tesgüino.\n",
      "Take one down, pass it around,\n",
      "2 bottles of tesgüino on the wall.\n",
      "\n",
      "2 bottles of tesgüino on the wall,\n",
      "2 bottles of tesgüino.\n",
      "Take one down, pass it around,\n",
      "1 bottles of tesgüino on the wall.\n",
      "\n",
      "1 bottle of tesgüino on the wall,\n",
      "1 bottle of tesgüino.\n",
      "Take one down, pass it around,\n",
      "No more bottles of tesgüino on the wall.\n",
      "\n",
      "No more bottles of tesgüino on the wall,\n",
      "no more bottles of tesgüino.\n",
      "Go to the store and buy some more,\n",
      "3 bottles of tesgüino on the wall.\n",
      "\n"
     ]
    }
   ],
   "source": [
    "def print_liquids(start_number, /, liquid='beer'):\n",
    "    for number in range(start_number, -1, -1): # change 4 to 99 when you're done with debugging\n",
    "        bottle_text = str(number)\n",
    "        if number == 1:\n",
    "            s = \"\"\n",
    "            last_text = \"No more\"\n",
    "        elif number == 0:\n",
    "            bottle_text = \"No more\"\n",
    "            last_text = start_number\n",
    "            s = \"s\"\n",
    "        else:\n",
    "            s = \"s\"\n",
    "            last_text = number - 1\n",
    "        print(f'''{bottle_text} bottle{s} of {liquid} on the wall,\n",
    "{bottle_text.lower()} bottle{s} of {liquid}.''')\n",
    "        if not number == 0:\n",
    "            print(f'''Take one down, pass it around,\n",
    "{last_text} bottles of {liquid} on the wall.''')\n",
    "        else:\n",
    "            print(f'''Go to the store and buy some more,\n",
    "{start_number} bottles of {liquid} on the wall.''')\n",
    "        print()\n",
    "print_liquids(3, 'tesgüino')"
   ]
  },
  {
   "cell_type": "markdown",
   "metadata": {},
   "source": [
    "#### Exercise 6c: preprocessing text\n",
    "Please write the answer to Exercise 4a as a function. The function replaces the following characters by empty spaces in a text:\n",
    "* newlines: '\\n'\n",
    "* commas: ','\n",
    "* dots: '.'\n",
    "* quotes: '\"'\n",
    "\n",
    "The function is:\n",
    "* is called `clean_text`\n",
    "* has one positional parameter `text`\n",
    "* return a string, e.g., the cleaned text\n"
   ]
  },
  {
   "cell_type": "code",
   "execution_count": 123,
   "metadata": {},
   "outputs": [
    {
     "data": {
      "text/plain": [
       "'Every adult dog growls barks eats indeed'"
      ]
     },
     "execution_count": 123,
     "metadata": {},
     "output_type": "execute_result"
    }
   ],
   "source": [
    "def clean_text(text):\n",
    "    for character in ['\\n', ',', '.', '\"']:\n",
    "        text = text.replace(character, \"\")\n",
    "    return text\n",
    "clean_text(\"Every adult dog growls, barks, eats.\\n \\\"indeed\\\"\")"
   ]
  },
  {
   "cell_type": "markdown",
   "metadata": {},
   "source": [
    "#### Exercise 6d: preprocessing text in a more general way\n",
    "Please write a function that replaces all characters that the user provides by empty spaces.\n",
    "\n",
    "The function is:\n",
    "* is called `clean_text_general`\n",
    "* has one positional parameter `text`\n",
    "* has one keyword parameter `chars_to_remove`, which is a set (set the default to {'\\n', ',', '.', '\"'})\n",
    "* return a string, e.g., the cleaned text\n",
    "\n",
    "When the user provides a different value to `chars_to_remove`, e.g., {'a'}, then only those characters should be replaced by empty spaces in the text."
   ]
  },
  {
   "cell_type": "code",
   "execution_count": 5,
   "metadata": {},
   "outputs": [
    {
     "data": {
      "text/plain": [
       "'difjnr(UIgkjbsf),'"
      ]
     },
     "execution_count": 5,
     "metadata": {},
     "output_type": "execute_result"
    }
   ],
   "source": [
    "from assignment2_utils import clean_text_general\n",
    "\n",
    "clean_text_general(\" difj nr #$(%U$%I gkjbsf ),\", chars_to_remove={\"#\", \"$\", \"%\", \" \"})"
   ]
  },
  {
   "cell_type": "markdown",
   "metadata": {},
   "source": [
    "Please store this function in a file called **assignment2_utils.py**. Please import the function and call it in this notebook."
   ]
  },
  {
   "cell_type": "markdown",
   "metadata": {},
   "source": [
    "#### Exercise 6e: including and excluding words\n",
    "Please write Exercise 5a as a function. \n",
    "\n",
    "The function:\n",
    "* is called `exclude_and_count`\n",
    "* has one positional parameter `words`, which is a list of strings.\n",
    "* creates a dictionary in which the **key** is a word and the **value** is the frequency of that word. \n",
    "* words are excluded if they meet one of the following criteria:\n",
    "    * end with the letter e\n",
    "    * start with the letter t\n",
    "    * start with the letter c and end with the letter w (both conditions must be met)\n",
    "    * have six or more letters\n",
    "* returns a dictionary in which the **key** is the word and the **value** is the frequency of the word. "
   ]
  },
  {
   "cell_type": "code",
   "execution_count": null,
   "metadata": {},
   "outputs": [],
   "source": [
    "def exclude_and_count"
   ]
  },
  {
   "cell_type": "markdown",
   "metadata": {},
   "source": [
    "## Exercise 7: Questions about Python\n",
    "Please answer the following questions about the Python language. You can give an examples if they help you.\n"
   ]
  },
  {
   "cell_type": "markdown",
   "metadata": {},
   "source": [
    "a. What is the difference between positional parameters and keyword parameters?"
   ]
  },
  {
   "cell_type": "code",
   "execution_count": null,
   "metadata": {},
   "outputs": [],
   "source": []
  },
  {
   "cell_type": "markdown",
   "metadata": {},
   "source": [
    "b. What is/are the type/types of containers that you define using curly brackets?"
   ]
  },
  {
   "cell_type": "code",
   "execution_count": null,
   "metadata": {},
   "outputs": [],
   "source": []
  },
  {
   "cell_type": "markdown",
   "metadata": {},
   "source": [
    "c. When comparing the containers lists and sets, there are three properties that are unique for lists. Please name and explain them."
   ]
  },
  {
   "cell_type": "code",
   "execution_count": null,
   "metadata": {},
   "outputs": [],
   "source": []
  },
  {
   "cell_type": "markdown",
   "metadata": {},
   "source": [
    "d. Explain the difference between **continue** and **break**. You can use an example for this. "
   ]
  },
  {
   "cell_type": "code",
   "execution_count": null,
   "metadata": {},
   "outputs": [],
   "source": []
  }
 ],
 "metadata": {
  "anaconda-cloud": {},
  "kernelspec": {
   "display_name": "PT",
   "language": "python",
   "name": "pt"
  },
  "language_info": {
   "codemirror_mode": {
    "name": "ipython",
    "version": 3
   },
   "file_extension": ".py",
   "mimetype": "text/x-python",
   "name": "python",
   "nbconvert_exporter": "python",
   "pygments_lexer": "ipython3",
   "version": "3.9.13"
  }
 },
 "nbformat": 4,
 "nbformat_minor": 4
}
