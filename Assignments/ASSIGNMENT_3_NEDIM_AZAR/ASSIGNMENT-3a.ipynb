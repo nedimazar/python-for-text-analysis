{
 "cells": [
  {
   "cell_type": "markdown",
   "metadata": {},
   "source": [
    "# Assignment 3a\n",
    "\n",
    "## Due: Friday, September 30, 2022 at 5pm (submission via Canvas)\n",
    "\n",
    "\n",
    "* Please submit your assignment (notebooks of parts 3a and 3b + Python modules) as **a single .zip file** using Canvas (Assignments --> Assignment 3). Please put the notebooks for Assignment 3a and 3b as well as the Python modules (files ending with .py) in one folder, which you call ASSIGNMENT_3_FIRSTNAME_LASTNAME. Please zip this folder and upload it as your submission.\n",
    "\n",
    "* Please name your zip file with the following naming convention: ASSIGNMENT_3_FIRSTNAME_LASTNAME.zip\n",
    "\n",
    "**IMPORTANTE NOTE**:\n",
    "* The students who follow the Bachelor version of this course, i.e., the course Introduction to Python for Humanities and Social Sciences (L_AABAALG075) as part of the minor Digital Humanities, do **not have to do Exercises 3 and 4 of Assignment 3b**\n",
    "* The other students, i.e., who follow the Master version of  course, which is Programming in Python for Text Analysis (L_AAMPLIN021), are required to **do Exercises 3 and 4 of Assignment 3b**\n",
    "\n",
    "If you have **questions** about this topic, please contact us **(cltl.python.course@gmail.com)**. Questions and answers will be collected on Piazza, so please check if your question has already been answered first.\n",
    "\n",
    "\n",
    "In this block, we covered a lot of ground:\n",
    "\n",
    "* Chapter 12 - Importing external modules \n",
    "* Chapter 13 - Working with Python scripts\n",
    "* Chapter 14 - Reading and writing text files\n",
    "* Chapter 15 - Off to analyzing text \n",
    "\n",
    "\n",
    "In this assignment, you will first complete a number of small exercises about each chapter to make sure you are familiar with the most important concepts. In the second part of the assignment, you will apply your newly acquired skills to write your very own text processing program (ASSIGNMENT-3b) :-). But don't worry, there will be instructions and hints along the way. \n",
    "\n",
    "\n",
    "**Can I use external modules other than the ones treated so far?**\n",
    "\n",
    "For now, please try to avoid it. All the exercises can be solved with what we have covered in block I, II, and III. \n"
   ]
  },
  {
   "cell_type": "markdown",
   "metadata": {},
   "source": [
    "## Functions & scope"
   ]
  },
  {
   "cell_type": "markdown",
   "metadata": {},
   "source": [
    "### Excercise 1:\n",
    "\n",
    "Define a function called `split_sort_text` which takes one positional parameter called **text** (a string).\n",
    "\n",
    "The function:\n",
    "* splits the string on a space character, i.e., ' '\n",
    "* returns all the unique words in alphabetical order as a list.\n",
    "\n",
    "* Hint 1: There is a specific python container which does not allow for duplicates and simply removes them. Use this one. \n",
    "* Hint 2: There is a function which sorts items in an iterable called 'sorted'. Look at the documentation to see how it is used. \n",
    "* Hint 3: Don't forget to write a docstring. Please make sure that the docstring generally explains with the input is, what the function does, and what the function returns. If you want, but this is not needed to receive full points, you can use [reStructuredText](http://docutils.sourceforge.net/rst.html)."
   ]
  },
  {
   "cell_type": "code",
   "execution_count": 1,
   "metadata": {},
   "outputs": [
    {
     "data": {
      "text/plain": [
       "['brown', 'dog', 'fox', 'jumped', 'lazy', 'over', 'quick', 'the']"
      ]
     },
     "execution_count": 1,
     "metadata": {},
     "output_type": "execute_result"
    }
   ],
   "source": [
    "# your code here\n",
    "\n",
    "def split_sort_text(text):\n",
    "    '''Splits input text by spaces, returns all the unique words in alphabetical order as a list.\n",
    "    \n",
    "    Parameters:\n",
    "        text (str): A string.\n",
    "        \n",
    "    Returns:\n",
    "        sorted(unoque) (list[str]): All the unique words in alphabetical order as a list'''\n",
    "    splitted = text.split(\" \")\n",
    "    unique = set(splitted)\n",
    "    return sorted(unique)\n",
    "\n",
    "split_sort_text(\"the quick brown fox jumped over the lazy dog\")"
   ]
  },
  {
   "cell_type": "markdown",
   "metadata": {},
   "source": [
    "## Working with external modules"
   ]
  },
  {
   "cell_type": "markdown",
   "metadata": {},
   "source": [
    "### Exercise 2\n",
    "NLTK offers a way of using WordNet in Python. Do some research (using google, because quite frankly, that's what we do very often) and see if you can find out how to import it. WordNet is a computational lexicon which organizes words according to their senses (collected in synsets). See if you can print all the **synset definitions** of the lemma **dog**.\n",
    "\n",
    "Make sure you have run the following cell to make sure you have installed WordNet:"
   ]
  },
  {
   "cell_type": "code",
   "execution_count": 2,
   "metadata": {},
   "outputs": [],
   "source": [
    "# import nltk\n",
    "# uncomment the following line to download material including WordNet\n",
    "# nltk.download('book')"
   ]
  },
  {
   "cell_type": "code",
   "execution_count": 3,
   "metadata": {},
   "outputs": [
    {
     "data": {
      "text/plain": [
       "[Synset('dog.n.01'),\n",
       " Synset('frump.n.01'),\n",
       " Synset('dog.n.03'),\n",
       " Synset('cad.n.01'),\n",
       " Synset('frank.n.02'),\n",
       " Synset('pawl.n.01'),\n",
       " Synset('andiron.n.01'),\n",
       " Synset('chase.v.01')]"
      ]
     },
     "execution_count": 3,
     "metadata": {},
     "output_type": "execute_result"
    }
   ],
   "source": [
    "# your code here\n",
    "from nltk.corpus import wordnet as wn\n",
    "wn.synsets('dog')"
   ]
  },
  {
   "cell_type": "markdown",
   "metadata": {},
   "source": [
    "## Working with python scripts"
   ]
  },
  {
   "cell_type": "markdown",
   "metadata": {},
   "source": [
    "### Exercise  3\n",
    "\n",
    "#### a.) Define a function called `count`, which determines how often each word occurs in a string. Do not use NLTK just yet. Find a way to test it. \n",
    "\n",
    "* Write a helper-function called `preprocess`, which removes the punctuation specified by the user, and returns the same string without the unwanted characters. You call the function `preprocess` inside the `count` function.\n",
    "\n",
    "* Remember that there are string methods that you can use to get rid of unwanted characters. Test the `preprocess` function using the following string `'this is a (tricky) test'`.\n",
    "\n",
    "* Remember how we used dictionaries to count words? If not, have a look at Chapter 10 - Dictionaries. \n",
    "\n",
    "* make sure you split the string on a space character ' '. You loop over the list to count the words.\n",
    "\n",
    "* Test your function using an example string, which will tell you whether it fulfills the requirements (remove punctuation, split, count). You will get a point for good testing.\n",
    "\n",
    "#### b.) Create a python script \n",
    "\n",
    "Use your editor to create a Python script called **count_words.py**. Place the function definition of the **count** function in **count_words.py**. Also put a function call of the **count** function in this file to test it. Place your helper function definition, i.e., **preprocess**, in a separate script called **utils_3a.py**. Import your helper function **preprocess** into count_words.py. Test whether everything works as expected by calling the script count_words.py from the terminal.\n",
    "\n",
    "The function **preprocess** preprocesses the text by removing characters that are unwanted by the user. **preprocess** is called within the **count** function and hence builds upon the output from the preprocess function and creates a dictionary in which the key is a word and the value is the frequency of the word.\n",
    "\n",
    "**Please submit these scripts together with the other notebooks**.\n",
    "\n",
    "Don't forget to add docstrings to your functions. "
   ]
  },
  {
   "cell_type": "code",
   "execution_count": 4,
   "metadata": {},
   "outputs": [
    {
     "name": "stdout",
     "output_type": "stream",
     "text": [
      "this is a tricky test\n",
      "{'test': 1, 'is': 1, 'this': 1, 'a': 1, 'tricky': 1}\n",
      "\n",
      "Test A passed! All words in \"This string contains unique words only, hence the resulting dictionary shall be filled with ones.\" are unique.\n",
      "Test B passed!\n"
     ]
    }
   ],
   "source": [
    "# 3a\n",
    "def preprocess(string, remove):\n",
    "    '''Preprocesses a string by removing specified characters.\n",
    "    \n",
    "    Parameters:\n",
    "        string (str): A string.\n",
    "        remove (set[character]): A set of characters to be removed from string.\n",
    "        \n",
    "    Returns:\n",
    "        string (str): The string with specified characters removed.'''\n",
    "    for character in remove:\n",
    "        string = string.replace(character, \"\")\n",
    "    return string\n",
    "\n",
    "\n",
    "def count(string, remove=[\"'\", \"(\", \")\"]):\n",
    "    '''Counts the number of times each word occurs in the input string.\n",
    "    \n",
    "    Parameters:\n",
    "        string (str): A string.\n",
    "        remove (list[str], optional): A list of characters to remove from the string before counting. Defaults to [\"'\", \"(\", \")\"].\n",
    "        \n",
    "    Returns:\n",
    "        word_counts (dict[str, int]): A dictionary mapping words to the number of times they occur in the input string'''\n",
    "    string = preprocess(string, set(remove))\n",
    "    \n",
    "    # I am assuming that the count should be case insensitive, that is why I am converting everything to lowercase\n",
    "    string = string.lower()\n",
    "    words = string.split(\" \")\n",
    "    \n",
    "    word_counts = {word : words.count(word) for word in set(words)}\n",
    "    \n",
    "    return word_counts\n",
    "\n",
    "print(preprocess(\"'this is a (tricky) test'\", set([\"'\", \"(\", \")\"])))\n",
    "\n",
    "print(count(\"'this is a (tricky) test'\", set([\"'\", \"(\", \")\"])))\n",
    "print()\n",
    "# Testing the function\n",
    "\n",
    "# TEST A: Here every count should be 1, so we test that\n",
    "a = \"This string contains unique words only, hence the resulting dictionary shall be filled with ones.\"\n",
    "results_a = count(a, remove=[',', '.'])\n",
    "for value in results_a.values():\n",
    "    assert value == 1\n",
    "print(f'Test A passed! All words in \"{a}\" are unique.')\n",
    "\n",
    "# TEST B\n",
    "# Here we simply write an integer n, n times. the resulting count should hence be n\n",
    "b = \"one. two, two. three, three, three. four, four, four, four!\"\n",
    "results_b = count(b, remove=[',', '.', '!'])\n",
    "if results_b == {'one': 1, 'two': 2, 'three' : 3, 'four': 4}:\n",
    "    print('Test B passed!')"
   ]
  },
  {
   "cell_type": "markdown",
   "metadata": {},
   "source": [
    "## Dealing with text files"
   ]
  },
  {
   "cell_type": "markdown",
   "metadata": {},
   "source": [
    "### Exercise 4\n",
    "\n",
    "**Playing with lyrics**\n",
    "\n",
    "a.) Write a function called `load_text`, which opens and reads a file and returns the text in the file. It should have the file path as a parameter. Test it by loading this file: ../Data/lyrics/walrus.txt\n",
    "\n",
    "* Hint: remember it is best practice to use a context manager\n",
    "* Hint: **FileNotFoundError**: This means that the path you provide does not lead to an existing file on your computer. Please carefully study Chapter 14. Please determine where the notebook or Python module that you are working with is located on your computer. Try to determine where Python is looking if you provide a path such as “../Data/lyrics/walrus.txt”. Try to go from your notebook to the location on your computer where Python is trying to find the file. One tip: if you did not store the Assignments notebooks 3a and 3b in the folder “Assignments”, you would get this error.\n",
    "\n",
    "b.) Write a function called `replace_walrus`, which takes lyrics as input and replaces every instance of 'walrus' by 'hippo' (make sure to account for upper and lower case - it is fine to transform everything to lower case). The function should write the new version of the song to a file called 'walrus_hippo.txt and stored in ../Data/lyrics. \n",
    "\n",
    "Don't forget to add docstrings to your functions. "
   ]
  },
  {
   "cell_type": "code",
   "execution_count": 5,
   "metadata": {},
   "outputs": [
    {
     "name": "stdout",
     "output_type": "stream",
     "text": [
      "\"I Am The Walrus\"\n",
      "(\"Magical Mystery Tour\" Version)\n",
      "\n",
      "I am he\n",
      "As you are he\n",
      "As you are me\n",
      "And we are all together\n",
      "\n",
      "See how they run\n",
      "Like pigs from a gun\n",
      "See how they fly\n",
      "I'm crying\n",
      "\n",
      "Sitting on a cornflake\n",
      "Waiting for the van to come\n",
      "Corporation tee shirt\n",
      "Stupid bloody Tuesday\n",
      "Man, you been a naughty boy\n",
      "You let your face grow long\n",
      "\n",
      "I am the eggman (Ooh)\n",
      "They are the eggmen, (Ooh)\n",
      "I am the walrus\n",
      "Goo goo g' joob\n",
      "\n",
      "Mister city p'liceman sitting pretty\n",
      "Little p'licemen in a row\n",
      "See how they fly\n",
      "Like Lucy in the sky\n",
      "See how they run\n",
      "I'm crying\n",
      "I'm crying, I'm crying, I'm crying\n",
      "\n",
      "Yellow matter custard\n",
      "Dripping from a dead dog's eye\n",
      "Crabalocker fishwife pornographic priestess\n",
      "Boy you been a naughty girl\n",
      "You let your knickers down\n",
      "\n",
      "I am the eggman (Ooh)\n",
      "They are the eggmen (Ooh)\n",
      "I am the walrus\n",
      "Goo goo g' joob\n",
      "\n",
      "Sitting in an English\n",
      "Garden waiting for the sun\n",
      "If the sun don't come\n",
      "You get a tan from standing in the English rain\n",
      "\n",
      "I am the eggman\n",
      "They are the eggmen\n",
      "I am the walrus\n",
      "Goo goo g' joob g' goo goo g' joob\n",
      "\n",
      "Expert texpert choking smokers\n",
      "Don't you think the joker laughs at you?\n",
      "See how they smile\n",
      "Like pigs in a sty, see how they snied\n",
      "I'm crying\n",
      "\n",
      "Semolina pilchards\n",
      "Climbing up the Eiffel Tower\n",
      "Element'ry penguin singing Hare Krishna\n",
      "Man, you should have seen them kicking Edgar Allan Poe\n",
      "\n",
      "I am the eggman (Ooh)\n",
      "They are the eggmen (Ooh)\n",
      "I am the walrus\n",
      "Goo goo g' joob\n",
      "Goo goo g' joob\n",
      "G' goo goo g' joob\n",
      "Goo goo g' joob, goo goo g' goo g' goo goo g' joob joob\n",
      "Joob joob...\n"
     ]
    }
   ],
   "source": [
    "# your code here\n",
    "# 4a\n",
    "\n",
    "def load_text(file_path):\n",
    "    with open(file_path, 'r') as file:\n",
    "        return(file.read())\n",
    "\n",
    "file_path = '../Data/lyrics/walrus.txt'\n",
    "print(load_text(file_path))"
   ]
  },
  {
   "cell_type": "code",
   "execution_count": 6,
   "metadata": {},
   "outputs": [],
   "source": [
    "# 4b\n",
    "def replace_walrus(lyrics):\n",
    "    lyrics = lyrics.lower()\n",
    "    \n",
    "    with open('../Data/lyrics/walrus_hippo.txt', 'w') as outfile:\n",
    "        outfile.write(lyrics.replace('walrus', 'hippo'))\n",
    "\n",
    "replace_walrus(load_text('../Data/lyrics/walrus.txt'))"
   ]
  },
  {
   "cell_type": "markdown",
   "metadata": {},
   "source": [
    "## Analyzing text with nltk"
   ]
  },
  {
   "cell_type": "markdown",
   "metadata": {},
   "source": [
    "### Exercise 5\n",
    "\n",
    "**Building a simple NLP pipeline**\n",
    "\n",
    "For this exercise, you will need NLTK. Don't forget to import it. \n",
    "\n",
    "Write a function called `tag_text`, which takes raw text as input and returns the tagged text. To do this, make sure you follow the steps below:\n",
    "\n",
    "* Tokenize the text. \n",
    "\n",
    "* Perform part-of-speech tagging on the list of tokens. \n",
    "\n",
    "* Return the tagged text\n",
    "\n",
    "\n",
    "Then test your function using the text snipped below (`test_text`) as input.\n",
    "\n",
    "Please note that the tags may not be correct and that this is not a mistake on your end, but simply NLP tools not being perfect."
   ]
  },
  {
   "cell_type": "code",
   "execution_count": 7,
   "metadata": {},
   "outputs": [],
   "source": [
    "test_text = \"\"\"Shall I compare thee to a summer's day?\n",
    "Thou art more lovely and more temperate:\n",
    "Rough winds do shake the darling buds of May,\n",
    "And summer's lease hath all too short a date:\"\"\""
   ]
  },
  {
   "cell_type": "code",
   "execution_count": 8,
   "metadata": {},
   "outputs": [
    {
     "data": {
      "text/plain": [
       "[('Shall', 'NN'),\n",
       " ('I', 'PRP'),\n",
       " ('compare', 'VBP'),\n",
       " ('thee', 'JJ'),\n",
       " ('to', 'TO'),\n",
       " ('a', 'DT'),\n",
       " ('summer', 'NN'),\n",
       " (\"'s\", 'POS'),\n",
       " ('day', 'NN'),\n",
       " ('?', '.'),\n",
       " ('Thou', 'NNP'),\n",
       " ('art', 'RB'),\n",
       " ('more', 'RBR'),\n",
       " ('lovely', 'RB'),\n",
       " ('and', 'CC'),\n",
       " ('more', 'JJR'),\n",
       " ('temperate', 'NN'),\n",
       " (':', ':'),\n",
       " ('Rough', 'NNP'),\n",
       " ('winds', 'NNS'),\n",
       " ('do', 'VBP'),\n",
       " ('shake', 'VB'),\n",
       " ('the', 'DT'),\n",
       " ('darling', 'VBG'),\n",
       " ('buds', 'NNS'),\n",
       " ('of', 'IN'),\n",
       " ('May', 'NNP'),\n",
       " (',', ','),\n",
       " ('And', 'CC'),\n",
       " ('summer', 'NN'),\n",
       " (\"'s\", 'POS'),\n",
       " ('lease', 'NN'),\n",
       " ('hath', 'NN'),\n",
       " ('all', 'DT'),\n",
       " ('too', 'RB'),\n",
       " ('short', 'JJ'),\n",
       " ('a', 'DT'),\n",
       " ('date', 'NN'),\n",
       " (':', ':')]"
      ]
     },
     "execution_count": 8,
     "metadata": {},
     "output_type": "execute_result"
    }
   ],
   "source": [
    "# your code here\n",
    "import nltk\n",
    "\n",
    "def tag_text(text):\n",
    "    tokens = nltk.word_tokenize(text)\n",
    "    tagged = nltk.pos_tag(tokens)\n",
    "    return tagged\n",
    "\n",
    "tag_text(test_text)"
   ]
  },
  {
   "cell_type": "markdown",
   "metadata": {},
   "source": [
    "## Python knowledge"
   ]
  },
  {
   "cell_type": "markdown",
   "metadata": {},
   "source": [
    "### Exercise 6\n",
    "\n",
    "6.a) Explain in your own words the difference between the global and the local scope."
   ]
  },
  {
   "cell_type": "markdown",
   "metadata": {},
   "source": [
    "The global scope refers to variables that are available throughout the entire program, while the local scope refers to variables that are only available within the current function or block of code."
   ]
  },
  {
   "cell_type": "markdown",
   "metadata": {},
   "source": [
    "6.b) What is the difference between the modes 'w' and 'a' when opening a file?"
   ]
  },
  {
   "cell_type": "markdown",
   "metadata": {},
   "source": [
    "The 'w' mode will overwrite any existing file with the same name and perform write operations to it. The 'a' mode will append the new data to the end of the file and will not overwrite it if it already exists."
   ]
  }
 ],
 "metadata": {
  "kernelspec": {
   "display_name": "PT",
   "language": "python",
   "name": "pt"
  },
  "language_info": {
   "codemirror_mode": {
    "name": "ipython",
    "version": 3
   },
   "file_extension": ".py",
   "mimetype": "text/x-python",
   "name": "python",
   "nbconvert_exporter": "python",
   "pygments_lexer": "ipython3",
   "version": "3.9.13"
  }
 },
 "nbformat": 4,
 "nbformat_minor": 4
}
